{
  "nbformat": 4,
  "nbformat_minor": 0,
  "metadata": {
    "colab": {
      "name": "info.ipynb",
      "provenance": [],
      "authorship_tag": "ABX9TyNaliGPm1cO44UvqvU+4vJ6",
      "include_colab_link": true
    },
    "kernelspec": {
      "name": "python3",
      "display_name": "Python 3"
    },
    "language_info": {
      "name": "python"
    }
  },
  "cells": [
    {
      "cell_type": "markdown",
      "metadata": {
        "id": "view-in-github",
        "colab_type": "text"
      },
      "source": [
        "<a href=\"https://colab.research.google.com/github/Mohamed-derbeli/Application-of-ML-in-a-fuel-cell-system/blob/main/info.ipynb\" target=\"_parent\"><img src=\"https://colab.research.google.com/assets/colab-badge.svg\" alt=\"Open In Colab\"/></a>"
      ]
    },
    {
      "cell_type": "code",
      "execution_count": null,
      "metadata": {
        "id": "JMVwA8Ow_4Y1"
      },
      "outputs": [],
      "source": [
        "# read data from github\n",
        "# with urllib.request.urlopen('https://raw.githubusercontent.com/Mohamed-derbeli/Fuel-cell-system/main/FC50_All_data00.csv') as csvfile:\n",
        "# read_file = csv.reader(codecs.iterdecode(csvfile, 'utf-8'), delimiter=',')\n",
        "\n",
        "\n",
        "\n",
        "# OR\n",
        "# fig, ax = plt.subplots(2, 2)\n",
        "# ax[0, 0].plot(I_stack_train[:2000], P_stack_train[0:2000], 'r', label='Istack Vs Pstack') #row=0, col=0\n",
        "# ax[1, 0].plot(I_stack_train[0:2000], V_stack_train[0:2000], 'b', label='Istack Vs Vstack') #row=1, col=0\n",
        "# ax[0, 1].plot(I_stack_test[:1000], P_stack_test[0:1000], 'g', label='Istack Vs Pstack') #row=0, col=1\n",
        "# ax[1, 1].plot(I_stack_test[0:1000], V_stack_test[0:1000], 'm', label='Istack Vs Vstack') #row=1, col=1\n",
        "# ax[0, 0].set_title('Training dataset')\n",
        "# ax[1, 0].set_title('Training dataset')\n",
        "# ax[0, 1].set_title('Test dataset')\n",
        "# ax[1, 1].set_title('Test Plot')\n",
        "# ax[0, 0].set_xlabel('Istack')\n",
        "# ax[1, 0].set_xlabel('Istack')\n",
        "# ax[0, 1].set_xlabel('Istack')\n",
        "# ax[1, 1].set_xlabel('Istack')\n",
        "# ax[0, 0].set_ylabel('Pstack')\n",
        "# ax[1, 0].set_ylabel('Vstack')\n",
        "# ax[0, 1].set_ylabel('Pstack')\n",
        "# ax[1, 1].set_ylabel('Vstack')\n",
        "# fig.tight_layout()\n",
        "# plt.show()\n",
        "\n",
        "\n",
        "# Keras Regression Metrics: mse, mae, mape (Mean Absolute Percentage Error), cosine, \n",
        "# Keras Classification Metrics: acc, sparse_categorical_accuracy, top_k_categorical_accuracy,sparse_top_k_categorical_accuracy\n",
        "\n",
        "# Epochs Vs Iterations Vs baches\n",
        "# Epochs: the number of epochs is the number of complete passes through the training dataset.\n",
        "# Iterations: is the number of batches needed to complete one epoch. We can divide the dataset of 2000 examples into batches of 500 then it will take 4 iterations to complete 1 epoch.\n",
        "# batch_size: refers to the number of training examples utilized in one iteration.\n",
        "# Note: The number of batches is equal to number of iterations for one epoch.\n",
        "\n",
        "\n",
        "# # calculate  error\n",
        "# def model_error(actual, predicted):\n",
        "# \terror = []\n",
        "# \tfor i in range(len(actual)):\n",
        "# \t\terror = np.append( actual[i] - predicted[i])\n",
        "# \t# mean_square_error = 1.0 / len(actual) * sum_square_error\n",
        "# \treturn error\n",
        "\n",
        "\n",
        "\n",
        "# Output_train=np.array(Output_train)\n",
        "# Output_train=Output_train[:10]\n",
        "# Output_traint=Output_train.reshape(1,10)\n",
        "# print(Output_train)\n",
        "\n",
        "# error=np.subtract(Output_train, pred_output)\n",
        "# print(error)\n",
        "\n",
        "\n",
        "\n",
        "\n",
        "# plt.plot(error)\n",
        "# pred_output=np.array(pred_output)\n",
        "# pred_output[:10].reshape(1,10)\n",
        "# Output_train[:10]\n",
        "\n",
        "# model_error(Output_train,pred_output)\n",
        "# make predictions using the predicted model\n",
        "# pred_output = model.predict(Input_train)\n",
        "# pred_output=np.array(pred_output)\n",
        "\n",
        "# error=np.subtract(Output_train[:10], pred_output[:10])\n",
        "# # t=0:0.01:100\n",
        "# error\n",
        "\n",
        "\n",
        "# with urllib.request.urlopen('https://raw.githubusercontent.com/Mohamed-derbeli/Fuel-cell-system/main/FC50_All_data00.csv') as csvfile:\n",
        "#    read_data = csvfile.read().decode('utf-8')\n",
        "#    print(read_data[0:50])\n",
        "\n",
        "#Total_size= sum(len(a) for a in V_stack)# for n dimension\n",
        "# V_stack=np.reshape(V_stack,[1,10])"
      ]
    }
  ]
}