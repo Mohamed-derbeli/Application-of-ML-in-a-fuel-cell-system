{
  "nbformat": 4,
  "nbformat_minor": 0,
  "metadata": {
    "colab": {
      "name": "Modeling_of_a_Commercial_Heliocentris_PEMFC_System.ipynb",
      "provenance": [],
      "authorship_tag": "ABX9TyPcZ0uKUY9c+oNHhoGc7+p0",
      "include_colab_link": true
    },
    "kernelspec": {
      "name": "python3",
      "display_name": "Python 3"
    },
    "language_info": {
      "name": "python"
    }
  },
  "cells": [
    {
      "cell_type": "markdown",
      "metadata": {
        "id": "view-in-github",
        "colab_type": "text"
      },
      "source": [
        "<a href=\"https://colab.research.google.com/github/Mohamed-derbeli/Application-of-ML-in-a-fuel-cell-system/blob/main/Modeling_of_a_Commercial_Heliocentris_PEMFC_System.ipynb\" target=\"_parent\"><img src=\"https://colab.research.google.com/assets/colab-badge.svg\" alt=\"Open In Colab\"/></a>"
      ]
    },
    {
      "cell_type": "markdown",
      "metadata": {
        "id": "C2ejrxuZSuTo"
      },
      "source": [
        "\n",
        "\n"
      ]
    },
    {
      "cell_type": "markdown",
      "metadata": {
        "id": "dsl9ojnXZ7RB"
      },
      "source": [
        " **Project title:** Machine Learning Approach for Modeling and Control of a Commercial Heliocentris FC50 PEM Fuel Cell System\n",
        "\n",
        "**Objective:** the goal of this project is to obtain an accurate PEMFC model that can perform with the same trend as the commercial Heliocentrics FC50 system. \n",
        "\n",
        "\n",
        "\n",
        "*   To cover the effect of all PEMFC parameters, and extensive database (data_size= 33856) for various operating conditions was used in the training operation.  \n",
        " \n",
        "*   Extensive tests with various ANN parameters are performed to obtain the best fit in terms of prediction accuracy.\n",
        "\n",
        "\n",
        "\n",
        " A detailed discription of this project can be found in: https://www.mdpi.com/2227-7390/9/17/2068/htm"
      ]
    },
    {
      "cell_type": "code",
      "metadata": {
        "id": "CC-ifprX7C0p"
      },
      "source": [
        "import tensorflow as tf\n",
        "import numpy as np\n",
        "import pandas as pd\n",
        "import codecs\n",
        "import io\n",
        "import csv\n",
        "import matplotlib.pyplot as plt\n",
        "from tensorflow import keras\n",
        "from tensorflow.keras import models, layers, optimizers\n",
        "from google.colab import files\n",
        "from sklearn.utils import shuffle\n",
        "from sklearn.model_selection import train_test_split\n",
        "# import urllib.request"
      ],
      "execution_count": 1,
      "outputs": []
    },
    {
      "cell_type": "code",
      "metadata": {
        "colab": {
          "resources": {
            "http://localhost:8080/nbextensions/google.colab/files.js": {
              "data": "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",
              "ok": true,
              "headers": [
                [
                  "content-type",
                  "application/javascript"
                ]
              ],
              "status": 200,
              "status_text": ""
            }
          },
          "base_uri": "https://localhost:8080/",
          "height": 72
        },
        "id": "w0OlBV7EIqwI",
        "outputId": "02bb996a-ab6a-4128-f070-b8ee71d18d05"
      },
      "source": [
        "# read data from github\n",
        "# with urllib.request.urlopen('https://raw.githubusercontent.com/Mohamed-derbeli/Fuel-cell-system/main/FC50_All_data00.csv') as csvfile:\n",
        "# read_file = csv.reader(codecs.iterdecode(csvfile, 'utf-8'), delimiter=',')\n",
        "\n",
        "#read data from local machine    \n",
        "uploaded = files.upload()  \n",
        "\n",
        "data= io.BytesIO(uploaded['FC50_All_data00.csv'])\n",
        "read_file = csv.reader(codecs.iterdecode(data, 'utf-8'), delimiter=',')  "
      ],
      "execution_count": 2,
      "outputs": [
        {
          "output_type": "display_data",
          "data": {
            "text/html": [
              "\n",
              "     <input type=\"file\" id=\"files-41353356-0d58-48dd-a7f6-944c687c08a5\" name=\"files[]\" multiple disabled\n",
              "        style=\"border:none\" />\n",
              "     <output id=\"result-41353356-0d58-48dd-a7f6-944c687c08a5\">\n",
              "      Upload widget is only available when the cell has been executed in the\n",
              "      current browser session. Please rerun this cell to enable.\n",
              "      </output>\n",
              "      <script src=\"/nbextensions/google.colab/files.js\"></script> "
            ],
            "text/plain": [
              "<IPython.core.display.HTML object>"
            ]
          },
          "metadata": {}
        },
        {
          "output_type": "stream",
          "name": "stdout",
          "text": [
            "Saving FC50_All_data00.csv to FC50_All_data00.csv\n"
          ]
        }
      ]
    },
    {
      "cell_type": "code",
      "metadata": {
        "id": "OyO7ybwanKPs"
      },
      "source": [
        "#Inputs/ Fan: Fan power, Temp: Temperature, I_stack: Stack current, \n",
        "#Outputs/ V_stack: Stack voltage\n",
        "V_stack=[]\n",
        "I_stack=[]\n",
        "Temp=[]\n",
        "H_2=[]\n",
        "Fan=[]\n",
        "P_stack=[]\n",
        "# The data of each parapmeter in the scv file is divided into 10 rows. Therefoe, to obtain the whole data of each stack parameters, the data should be appended in the same vector. \n",
        "V_stack_index=[]\n",
        "I_stack_index=[]\n",
        "Temp_index=[]\n",
        "H_2_index=[]\n",
        "Fan_index=[]\n",
        "P_stack_index=[]\n"
      ],
      "execution_count": 3,
      "outputs": []
    },
    {
      "cell_type": "code",
      "metadata": {
        "colab": {
          "base_uri": "https://localhost:8080/"
        },
        "id": "rg-pQVu7GWj0",
        "outputId": "d733bd12-3b93-486c-a983-f47220b00e5b"
      },
      "source": [
        "# next(read_file) # next() used to skip the first row \n",
        "for i in range(0,6): # 6 rows of each tables \n",
        "    for number in range(i, 60, 6): #total of all rows is 60\n",
        "      if i==0:\n",
        "        V_stack_index.append(number)\n",
        "      if i==1:\n",
        "        I_stack_index.append(number)\n",
        "      if i==2:\n",
        "        Temp_index.append(number)\n",
        "      if i==3:\n",
        "        H_2_index.append(number)\n",
        "      if i==4:\n",
        "        Fan_index.append(number)\n",
        "      if i==5:\n",
        "        P_stack_index.append(number)\n",
        "            \n",
        "#Plot indexes     \n",
        "print(\"V_stack_index = \", V_stack_index)\n",
        "print(\"I_stack_index = \",I_stack_index)\n",
        "print(\"Temp_index = \",Temp_index)\n",
        "print(\"H_2_index = \",H_2_index)\n",
        "print(\"Fan_index = \",Fan_index)\n",
        "print(\"P_stack_index = \",P_stack_index)"
      ],
      "execution_count": 4,
      "outputs": [
        {
          "output_type": "stream",
          "name": "stdout",
          "text": [
            "V_stack_index =  [0, 6, 12, 18, 24, 30, 36, 42, 48, 54]\n",
            "I_stack_index =  [1, 7, 13, 19, 25, 31, 37, 43, 49, 55]\n",
            "Temp_index =  [2, 8, 14, 20, 26, 32, 38, 44, 50, 56]\n",
            "H_2_index =  [3, 9, 15, 21, 27, 33, 39, 45, 51, 57]\n",
            "Fan_index =  [4, 10, 16, 22, 28, 34, 40, 46, 52, 58]\n",
            "P_stack_index =  [5, 11, 17, 23, 29, 35, 41, 47, 53, 59]\n"
          ]
        }
      ]
    },
    {
      "cell_type": "code",
      "metadata": {
        "colab": {
          "base_uri": "https://localhost:8080/"
        },
        "id": "l5TLD5LvKMMH",
        "outputId": "9e29f247-81d0-4b52-b85e-6d5cff7e7bb8"
      },
      "source": [
        "counter=0    \n",
        "for row in read_file:\n",
        "  #clean the empty cells\n",
        "  j=0\n",
        "  for item in row:\n",
        "    j=j+1\n",
        "    if item ==\"\":\n",
        "      row=row[0:j-1]\n",
        "  # print(j)\n",
        "  #append the rows of the same parameter\n",
        "  if counter in V_stack_index:\n",
        "    for k1 in row: \n",
        "      V_stack.append(k1) \n",
        "      # this loop is used to fill in V_stack item by item and get 1 dimension vector,\n",
        "      # if we directly append(row) without looping then the shape of V_stack will be \n",
        "      # 2 dimension (10 rows, each has differnet length), this will cause difficults \n",
        "      # to reshape V_stack since the rows length are not the same.        \n",
        "  if counter in I_stack_index:\n",
        "    for k2 in row:\n",
        "      I_stack.append(k2)\n",
        "  if counter in Temp_index:\n",
        "    for k3 in row:\n",
        "      Temp.append(k3)\n",
        "  if counter in Fan_index:\n",
        "    for k4 in row:\n",
        "      Fan.append(k4)\n",
        "  if counter in H_2_index:\n",
        "    for k5 in row:\n",
        "      H_2.append(k5)\n",
        "  if counter in P_stack_index:\n",
        "    for k6 in row:\n",
        "      P_stack.append(k6)\n",
        "  counter=counter+1\n",
        "\n",
        "#plot the first 10 data of the stack parameters\n",
        "print(\"\\n V_stack = \",V_stack[0:10])\n",
        "print(\"I_stack= \",I_stack[0:10])\n",
        "print(\"Temp = \",Temp[0:10])\n",
        "print(\"Fan = \", Fan[0:10])\n",
        "print(\"H_2 = \", H_2[0:10])\n",
        "print(\"P_stack = \", P_stack[0:10])\n",
        "\n",
        "\n",
        "# print(\"\\n dimentiones of V_stack are: \", [len(a) for a in V_stack])\n",
        "# print(\"Total length of V_stack: \", sum(len(a) for a in V_stack))"
      ],
      "execution_count": 5,
      "outputs": [
        {
          "output_type": "stream",
          "name": "stdout",
          "text": [
            "\n",
            " V_stack =  ['6.45', '6.09', '5.34', '4.41', '4.61', '5.52', '6.04', '6.52', '6.93', '7.16']\n",
            "I_stack=  ['2.33', '2.97', '4.43', '6.58', '5.99', '4.17', '3.2', '2.34', '1.7', '1.34']\n",
            "Temp =  ['25.6', '25.6', '25.5', '25.5', '25.5', '25.6', '25.6', '25.6', '25.7', '25.8']\n",
            "Fan =  ['10', '10', '10', '10', '10', '10', '10', '10', '10', '10']\n",
            "H_2 =  ['141', '165', '1036', '1036', '1036', '780', '1036', '1036', '648', '138']\n",
            "P_stack =  ['15.0285', '18.0873', '23.6562', '29.0178', '27.6139', '23.0184', '19.328', '15.2568', '11.781', '9.5944']\n"
          ]
        }
      ]
    },
    {
      "cell_type": "code",
      "metadata": {
        "colab": {
          "base_uri": "https://localhost:8080/",
          "height": 299
        },
        "id": "AWTHoV0HQsmU",
        "outputId": "93146458-dbbe-485e-f702-28962cf9c483"
      },
      "source": [
        "V_stack=np.array(V_stack, dtype=float)\n",
        "I_stack=np.array(I_stack, dtype=float)\n",
        "Temp=np.array(Temp, dtype=float)\n",
        "Fan=np.array(Fan, dtype=float)\n",
        "H_2=np.array(H_2, dtype=float)\n",
        "P_stack=np.array(P_stack, dtype=float)\n",
        "\n",
        "#Data normalization\n",
        "V_stack=V_stack/10\n",
        "I_stack=I_stack/10\n",
        "Temp=Temp/50\n",
        "Fan=Fan/100\n",
        "H_2=H_2/1100\n",
        "P_stack=P_stack/50\n",
        "\n",
        "print(\"The normalized data of V_stack are: \", V_stack[0:10])\n",
        "\n",
        "\n",
        "#Scatter plots are used to observe relationship between variables and uses dots to represent the relationship between them.\n",
        "\n",
        "plt.scatter(I_stack, P_stack)\n",
        "plt.scatter(I_stack, V_stack)"
      ],
      "execution_count": 6,
      "outputs": [
        {
          "output_type": "stream",
          "name": "stdout",
          "text": [
            "The normalized data of V_stack are:  [0.645 0.609 0.534 0.441 0.461 0.552 0.604 0.652 0.693 0.716]\n"
          ]
        },
        {
          "output_type": "execute_result",
          "data": {
            "text/plain": [
              "<matplotlib.collections.PathCollection at 0x7f99e7cf9e10>"
            ]
          },
          "metadata": {},
          "execution_count": 6
        },
        {
          "output_type": "display_data",
          "data": {
            "image/png": "[encoded data removed]",
            "text/plain": [
              "<Figure size 432x288 with 1 Axes>"
            ]
          },
          "metadata": {
            "needs_background": "light"
          }
        }
      ]
    },
    {
      "cell_type": "code",
      "metadata": {
        "colab": {
          "base_uri": "https://localhost:8080/"
        },
        "id": "jJeK-2XIp8Dh",
        "outputId": "c2579574-7449-41f6-cd75-85e13152ef13"
      },
      "source": [
        "# Create training and test split\n",
        "Total_size=len(V_stack)\n",
        "Training_size= int(.8 * Total_size)\n",
        "Testing_size= Total_size - Training_size\n",
        "\n",
        "#training data\n",
        "V_stack_train=V_stack[:Training_size]\n",
        "I_stack_train=I_stack[:Training_size]\n",
        "Temp_train=Temp[:Training_size]\n",
        "Fan_train=Fan[:Training_size]\n",
        "H_2_train=H_2[:Training_size]\n",
        "P_stack_train=P_stack[:Training_size]\n",
        "\n",
        "#testing data\n",
        "V_stack_test=V_stack[Training_size:]\n",
        "I_stack_test=I_stack[Training_size:]\n",
        "Temp_test=Temp[Training_size:]\n",
        "Fan_test=Fan[Training_size:]\n",
        "H_2_test=H_2[Training_size:]\n",
        "P_stack_test=P_stack[Training_size:]\n",
        "\n",
        "print(\"Total_size= \", Total_size)\n",
        "print(\"Training_size= \", Training_size)\n",
        "print(\"Testing_size= \", Testing_size)\n",
        "\n",
        "# Splitting data also can be done directly via sklearn \n",
        "\n",
        "# X=np.array([I_stack, Temp, Fan])\n",
        "# X=X.T #transpose the rows\n",
        "# Y=np.array(V_stack)\n",
        "# X_train, X_test, Y_train, Y_test = train_test_split(X, Y, test_size=0.20, random_state=40)\n",
        "# print(X_train.shape)\n",
        "# print(X_test.shape)\n",
        "# print(Y_train.shape)"
      ],
      "execution_count": 7,
      "outputs": [
        {
          "output_type": "stream",
          "name": "stdout",
          "text": [
            "Total_size=  33856\n",
            "Training_size=  27084\n",
            "Testing_size=  6772\n"
          ]
        }
      ]
    },
    {
      "cell_type": "code",
      "metadata": {
        "id": "j5S7CpxSM-_8",
        "colab": {
          "base_uri": "https://localhost:8080/",
          "height": 423
        },
        "outputId": "5ecf120f-a5cf-4ff9-b096-39f330f10c5b"
      },
      "source": [
        "#Data visualization \n",
        "X=[I_stack_train[:2000], I_stack_test[0:1000], I_stack_train[:2000], I_stack_test[0:1000]]  # x-axis\n",
        "Y=[P_stack_train[0:2000], P_stack_test[0:1000], V_stack_train[0:2000],V_stack_test[0:1000]] # Y-axis\n",
        "k1=['r','b','g','m']                                                                         # color\n",
        "k2=['Istack Vs Pstack','Istack Vs Pstack','Istack Vs Vstack','Istack Vs Vstack']             # label\n",
        "title = ['Training dataset', 'Test dataset', 'Training dataset', 'Test dataset']             # figure titles\n",
        "Xlab=['Istack','Istack','Istack','Istack']                                                   # name of x-axis\n",
        "Ylab=['Pstack','Pstack','Vstack','Vstack']                                                   # name of y-axis\n",
        "\n",
        "a = 2  # number of rows\n",
        "b = 2  # number of columns\n",
        "c = 1  # initialize plot counter\n",
        "itm=0\n",
        "\n",
        "fig = plt.figure(figsize=(12,6))\n",
        "\n",
        "# The following adjustment is needed to make space between the figures\n",
        "plt.subplots_adjust(left=0.1,\n",
        "                    bottom=0.1, \n",
        "                    right=0.9, \n",
        "                    top=0.9, \n",
        "                    wspace=0.4, \n",
        "                    hspace=0.4)\n",
        "for i in title:\n",
        "    plt.subplot(a, b, c)\n",
        "    plt.title('{}, subplot: {}{}{}'.format(i, a, b, c))\n",
        "    plt.xlabel(Xlab[itm])\n",
        "    plt.ylabel(Ylab[itm])\n",
        "    plt.plot(X[itm], Y[itm],k1[itm],label=k2[itm])\n",
        "    c = c + 1\n",
        "    itm= itm + 1\n",
        "\n",
        "plt.show()\n",
        "\n",
        "\n",
        "# OR\n",
        "# fig, ax = plt.subplots(2, 2)\n",
        "# ax[0, 0].plot(I_stack_train[:2000], P_stack_train[0:2000], 'r', label='Istack Vs Pstack') #row=0, col=0\n",
        "# ax[1, 0].plot(I_stack_train[0:2000], V_stack_train[0:2000], 'b', label='Istack Vs Vstack') #row=1, col=0\n",
        "# ax[0, 1].plot(I_stack_test[:1000], P_stack_test[0:1000], 'g', label='Istack Vs Pstack') #row=0, col=1\n",
        "# ax[1, 1].plot(I_stack_test[0:1000], V_stack_test[0:1000], 'm', label='Istack Vs Vstack') #row=1, col=1\n",
        "# ax[0, 0].set_title('Training dataset')\n",
        "# ax[1, 0].set_title('Training dataset')\n",
        "# ax[0, 1].set_title('Test dataset')\n",
        "# ax[1, 1].set_title('Test Plot')\n",
        "# ax[0, 0].set_xlabel('Istack')\n",
        "# ax[1, 0].set_xlabel('Istack')\n",
        "# ax[0, 1].set_xlabel('Istack')\n",
        "# ax[1, 1].set_xlabel('Istack')\n",
        "# ax[0, 0].set_ylabel('Pstack')\n",
        "# ax[1, 0].set_ylabel('Vstack')\n",
        "# ax[0, 1].set_ylabel('Pstack')\n",
        "# ax[1, 1].set_ylabel('Vstack')\n",
        "# fig.tight_layout()\n",
        "# plt.show()"
      ],
      "execution_count": 8,
      "outputs": [
        {
          "output_type": "display_data",
          "data": {
            "image/png": "[encoded data removed]",
            "text/plain": [
              "<Figure size 864x432 with 4 Axes>"
            ]
          },
          "metadata": {
            "needs_background": "light"
          }
        }
      ]
    },
    {
      "cell_type": "code",
      "metadata": {
        "id": "zpCKoIqaJQFD"
      },
      "source": [
        "# Shuffle dataset: \n",
        "#only training data should be shuffled since the test and validataion data has no effect on the model\n",
        "#shuffle helps the training to converge fast. it prevents any bias during the training. it prevents the model from learning the order of the training.\n",
        "I_stack_train, V_stack_train, P_stack_train, Temp_train, Fan_train, H_2_train = shuffle(I_stack_train, V_stack_train, P_stack_train, Temp_train, Fan_train, H_2_train)"
      ],
      "execution_count": 9,
      "outputs": []
    },
    {
      "cell_type": "code",
      "metadata": {
        "colab": {
          "base_uri": "https://localhost:8080/"
        },
        "id": "GRcXGA_neWP5",
        "outputId": "eeef2189-c66f-4702-db46-885973e654e5"
      },
      "source": [
        "#  Set the input and output shape:\n",
        "# Since H_2 is controlled automatically and P_stack is a result of V*I, then, only the other 4 parameters will be used to train the model.\n",
        "\n",
        "Input_train= np.array([I_stack_train, Temp_train, Fan_train])\n",
        "Input_train=Input_train.T #Transpose (reshape also can be used) \n",
        "Output_train=np.array(V_stack_train) \n",
        "\n",
        "Input_test= np.array([I_stack_test, Temp_test, Fan_test])\n",
        "Input_test=Input_test.T \n",
        "Output_test=np.array(V_stack_test) \n",
        "\n",
        "print(Input_train.shape)\n",
        "print(Output_train.shape)\n",
        "\n",
        "print(Input_test.shape)\n",
        "print(Output_test.shape)"
      ],
      "execution_count": 10,
      "outputs": [
        {
          "output_type": "stream",
          "name": "stdout",
          "text": [
            "(27084, 3)\n",
            "(27084,)\n",
            "(6772, 3)\n",
            "(6772,)\n"
          ]
        }
      ]
    },
    {
      "cell_type": "code",
      "metadata": {
        "id": "rGe1w7uQAMqA"
      },
      "source": [
        "DESIRED_ACCURACY = 0.99\n",
        "\n",
        "class myCallback(tf.keras.callbacks.Callback):\n",
        "    def on_epoch_end(self, epoch, logs={}):\n",
        "        if(logs.get('accuracy') > DESIRED_ACCURACY):\n",
        "            print(\"\\nReached 99% accuracy so cancelling training!\")\n",
        "            self.model.stop_training = True\n",
        "\n",
        "callbacks = myCallback()"
      ],
      "execution_count": 11,
      "outputs": []
    },
    {
      "cell_type": "code",
      "metadata": {
        "id": "V0SYGh0HLs0n",
        "colab": {
          "base_uri": "https://localhost:8080/",
          "height": 622
        },
        "outputId": "af576330-dffb-4941-8da0-dd3dd58f9416"
      },
      "source": [
        "# Set up the model\n",
        "model = models.Sequential()\n",
        "model.add(layers.Dense(10, activation=\"relu\", input_shape=(3,))) #The first hidden layer would need to have input_shape set to the value matching the number of features. \n",
        "model.add(layers.Dense(10, activation=\"relu\"))\n",
        "model.add(layers.Dense(10, activation=\"relu\"))\n",
        "model.add(layers.Dense(1, activation=\"linear\")) # for regression problem, the last layer would only require 1 node and a \"linear activation function\" or \"no activation function\". \n",
        "\t\n",
        "\n",
        "# # Compile the model: configure the network with optimizer, loss function and accuracy:\n",
        "model.compile(optimizer=optimizers.RMSprop(learning_rate=0.001),\n",
        "                loss='mse',     # The purpose of loss functions is to compute the quantity that a model should seek to minimize during training mse=(predictions-targets)^2\n",
        "                metrics=['mae']) # A metric is a function that is used to judge the performance of your model . \n",
        "\n",
        "# Fit the network and rredict on the Test Data\n",
        "history = model.fit(Input_train, Output_train,\n",
        "                    validation_data=(Input_test, Output_test),\n",
        "                    epochs=10,\n",
        "                    batch_size=20, #default 32\n",
        "\t\t\t\t\t          verbose=2 # verbose=0 will show you nothing/ verbose=1 will show you an animated progress for each epoch/ verbose=2 will just mention the number of epoch \n",
        "\t\t\t\t\t\t\t\t\t\t)#callbacks=[callbacks]) \n",
        "plt.plot(history.history['mae'], label='train')\n",
        "plt.plot(history.history['val_mae'], label='test')\n",
        "\n",
        "\n",
        "\n",
        "\n",
        "\n",
        "def fit_model(trainX, trainy, testX, testy, n_batch):\n",
        "\t# define model\n",
        "\tmodel = Sequential()\n",
        "\tmodel.add(Dense(50, input_dim=2, activation='relu', kernel_initializer='he_uniform'))\n",
        "\tmodel.add(Dense(3, activation='softmax'))\n",
        "\t# compile model\n",
        "\topt = SGD(lr=0.01, momentum=0.9)\n",
        "\tmodel.compile(loss='categorical_crossentropy', optimizer=opt, metrics=['accuracy'])\n",
        "\t# fit model\n",
        "\thistory = model.fit(trainX, trainy, validation_data=(testX, testy), epochs=200, verbose=0, batch_size=n_batch)\n",
        "\t# plot learning curves\n",
        "\tpyplot.plot(history.history['accuracy'], label='train')\n",
        "\tpyplot.plot(history.history['val_accuracy'], label='test')\n",
        "\tpyplot.title('batch='+str(n_batch), pad=-40)\n",
        " \n",
        "# prepare dataset\n",
        "trainX, trainy, testX, testy = prepare_data()\n",
        "# create learning curves for different batch sizes\n",
        "batch_sizes = [4, 8, 16, 32, 64, 128, 256, 450]\n",
        "for i in range(len(batch_sizes)):\n",
        "\t# determine the plot number\n",
        "\tplot_no = 420 + (i+1)\n",
        "\tpyplot.subplot(plot_no)\n",
        "\t# fit model and plot learning curves for a batch size\n",
        "\tfit_model(trainX, trainy, testX, testy, batch_sizes[i])\n",
        "# show learning curves\n",
        "pyplot.show()\n",
        "\n",
        "\n",
        "\n",
        "\n",
        "\n",
        "\n",
        "\n",
        "\n",
        "\n",
        "\n",
        "\n",
        "\n",
        "\n",
        "\n",
        "\n",
        "\n",
        "# evaluate the model\n",
        "# scores = model.evaluate(Input_train, Output_train)\n",
        "# print(\"%s: %.2f%%\" % (model.metrics_names[1], scores[1]*100))\n",
        "\n",
        "# Keras Regression Metrics: mse, mae, mape (Mean Absolute Percentage Error), cosine, \n",
        "# Keras Classification Metrics: acc, sparse_categorical_accuracy, top_k_categorical_accuracy,sparse_top_k_categorical_accuracy\n",
        "\n",
        "# Epochs Vs Iterations Vs baches\n",
        "# Epochs: the number of epochs is the number of complete passes through the training dataset.\n",
        "# Iterations: is the number of batches needed to complete one epoch. We can divide the dataset of 2000 examples into batches of 500 then it will take 4 iterations to complete 1 epoch.\n",
        "# batch_size: refers to the number of training examples utilized in one iteration.\n",
        "# Note: The number of batches is equal to number of iterations for one epoch.\t"
      ],
      "execution_count": 12,
      "outputs": [
        {
          "output_type": "stream",
          "name": "stdout",
          "text": [
            "Epoch 1/10\n",
            "1355/1355 - 2s - loss: 0.0094 - mae: 0.0384 - val_loss: 0.0025 - val_mae: 0.0432\n",
            "Epoch 2/10\n",
            "1355/1355 - 1s - loss: 3.2675e-04 - mae: 0.0138 - val_loss: 0.0014 - val_mae: 0.0297\n",
            "Epoch 3/10\n",
            "1355/1355 - 1s - loss: 3.0103e-04 - mae: 0.0131 - val_loss: 0.0011 - val_mae: 0.0250\n",
            "Epoch 4/10\n",
            "1355/1355 - 1s - loss: 2.8502e-04 - mae: 0.0128 - val_loss: 0.0010 - val_mae: 0.0232\n",
            "Epoch 5/10\n",
            "1355/1355 - 1s - loss: 2.7428e-04 - mae: 0.0124 - val_loss: 0.0013 - val_mae: 0.0268\n",
            "Epoch 6/10\n",
            "1355/1355 - 1s - loss: 2.6317e-04 - mae: 0.0121 - val_loss: 0.0012 - val_mae: 0.0271\n",
            "Epoch 7/10\n",
            "1355/1355 - 1s - loss: 2.5300e-04 - mae: 0.0118 - val_loss: 0.0011 - val_mae: 0.0242\n",
            "Epoch 8/10\n",
            "1355/1355 - 1s - loss: 2.4150e-04 - mae: 0.0115 - val_loss: 9.9295e-04 - val_mae: 0.0227\n",
            "Epoch 9/10\n",
            "1355/1355 - 1s - loss: 2.3247e-04 - mae: 0.0113 - val_loss: 0.0010 - val_mae: 0.0231\n",
            "Epoch 10/10\n",
            "1355/1355 - 1s - loss: 2.1510e-04 - mae: 0.0108 - val_loss: 9.3841e-04 - val_mae: 0.0217\n"
          ]
        },
        {
          "output_type": "execute_result",
          "data": {
            "text/plain": [
              "[<matplotlib.lines.Line2D at 0x7f99df9a1d90>]"
            ]
          },
          "metadata": {},
          "execution_count": 12
        },
        {
          "output_type": "display_data",
          "data": {
            "image/png": "[encoded data removed]",
            "text/plain": [
              "<Figure size 432x288 with 1 Axes>"
            ]
          },
          "metadata": {
            "needs_background": "light"
          }
        }
      ]
    },
    {
      "cell_type": "code",
      "metadata": {
        "id": "zOa4DTsjYcLO"
      },
      "source": [
        "# with urllib.request.urlopen('https://raw.githubusercontent.com/Mohamed-derbeli/Fuel-cell-system/main/FC50_All_data00.csv') as csvfile:\n",
        "#    read_data = csvfile.read().decode('utf-8')\n",
        "#    print(read_data[0:50])\n",
        "\n",
        "#Total_size= sum(len(a) for a in V_stack)# for n dimension\n",
        "# V_stack=np.reshape(V_stack,[1,10])"
      ],
      "execution_count": 13,
      "outputs": []
    }
  ]
}