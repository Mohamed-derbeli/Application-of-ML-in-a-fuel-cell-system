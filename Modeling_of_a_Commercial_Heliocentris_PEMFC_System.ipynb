{
  "nbformat": 4,
  "nbformat_minor": 0,
  "metadata": {
    "colab": {
      "name": "Modeling_of_a_Commercial_Heliocentris_PEMFC_System.ipynb",
      "provenance": [],
      "authorship_tag": "ABX9TyNgrJri1LufUsbMvhOUtPry",
      "include_colab_link": true
    },
    "kernelspec": {
      "name": "python3",
      "display_name": "Python 3"
    },
    "language_info": {
      "name": "python"
    }
  },
  "cells": [
    {
      "cell_type": "markdown",
      "metadata": {
        "id": "view-in-github",
        "colab_type": "text"
      },
      "source": [
        "<a href=\"https://colab.research.google.com/github/Mohamed-derbeli/Fuel-cell-system/blob/main/Modeling_of_a_Commercial_Heliocentris_PEMFC_System.ipynb\" target=\"_parent\"><img src=\"https://colab.research.google.com/assets/colab-badge.svg\" alt=\"Open In Colab\"/></a>"
      ]
    },
    {
      "cell_type": "code",
      "metadata": {
        "id": "CC-ifprX7C0p"
      },
      "source": [
        "import tensorflow as tf\n",
        "import numpy as np\n",
        "import pandas as pd\n",
        "from tensorflow import keras"
      ],
      "execution_count": null,
      "outputs": []
    },
    {
      "cell_type": "code",
      "metadata": {
        "id": "cYmPkCKUFEl6"
      },
      "source": [
        "with open(\"./training_cleaned.csv\") as csvfile:\n",
        "    reader = csv.reader(csvfile, delimiter=',')\n",
        "    for row in reader:\n",
        "        list_item=[]    \n",
        "        ### START CODE HERE\n",
        "        #Create list items where the first item is the text, found in row[5], and the second is the label. Note that the label is a '0' or a '4' in the text. When it's the former, make\n",
        "        # your label to be 0, otherwise 1. Keep a count of the number of sentences in num_sentences\n",
        "        list_item.append(row[5])\n",
        "        if row[0]=='0':\n",
        "          list_item.append(0)\n",
        "        else:\n",
        "            list_item.append(1)\n",
        "        ### END CODE HERE\n",
        "        num_sentences = num_sentences + 1\n",
        "        corpus.append(list_item)"
      ],
      "execution_count": null,
      "outputs": []
    },
    {
      "cell_type": "code",
      "metadata": {
        "id": "6X_8D498Duyn"
      },
      "source": [
        "mydata = pd.read_excel(\"https://www.eia.gov/dnav/pet/hist_xls/RBRTEd.xls\",sheetname=\"Data 1\", skiprows=2)\n",
        "If you do not specify name of sheet in sheetname= option, it would take by default first sheet."
      ],
      "execution_count": null,
      "outputs": []
    },
    {
      "cell_type": "code",
      "metadata": {
        "id": "j6BDHHpN9fRD"
      },
      "source": [
        "#Inputs/ F: Fan power, T: Temperature, I_stack: Stack current, \n",
        "#Outputs/ V_stack: Stack voltage\n",
        "\n",
        "F= \n",
        "\n",
        "\n"
      ],
      "execution_count": null,
      "outputs": []
    }
  ]
}