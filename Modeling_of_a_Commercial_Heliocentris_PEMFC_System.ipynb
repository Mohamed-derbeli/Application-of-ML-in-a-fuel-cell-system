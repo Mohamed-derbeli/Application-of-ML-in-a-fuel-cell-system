{
  "nbformat": 4,
  "nbformat_minor": 0,
  "metadata": {
    "colab": {
      "name": "Modeling_of_a_Commercial_Heliocentris_PEMFC_System.ipynb",
      "provenance": [],
      "authorship_tag": "ABX9TyOOnHhwbKszv6T2fYLk9JaO",
      "include_colab_link": true
    },
    "kernelspec": {
      "name": "python3",
      "display_name": "Python 3"
    },
    "language_info": {
      "name": "python"
    }
  },
  "cells": [
    {
      "cell_type": "markdown",
      "metadata": {
        "id": "view-in-github",
        "colab_type": "text"
      },
      "source": [
        "<a href=\"https://colab.research.google.com/github/Mohamed-derbeli/Fuel-cell-system/blob/main/Modeling_of_a_Commercial_Heliocentris_PEMFC_System.ipynb\" target=\"_parent\"><img src=\"https://colab.research.google.com/assets/colab-badge.svg\" alt=\"Open In Colab\"/></a>"
      ]
    },
    {
      "cell_type": "code",
      "metadata": {
        "id": "CC-ifprX7C0p"
      },
      "source": [
        "import tensorflow as tf\n",
        "import numpy as np\n",
        "import pandas as pd\n",
        "import csv\n",
        "import os\n",
        "from os import getcwd\n",
        "import urllib.request\n",
        "# from urllib.request import urlopen\n",
        "from urllib.request import urlretrieve\n",
        "from tensorflow import keras\n",
        "import codecs"
      ],
      "execution_count": 44,
      "outputs": []
    },
    {
      "cell_type": "code",
      "metadata": {
        "id": "OyO7ybwanKPs"
      },
      "source": [
        "# with urllib.request.urlopen('https://raw.githubusercontent.com/Mohamed-derbeli/Fuel-cell-system/main/FC50_All_data00.csv') as csvfile:\n",
        "#    read_data = csvfile.read().decode('utf-8')\n",
        "#    print(read_data[0:50])"
      ],
      "execution_count": null,
      "outputs": []
    },
    {
      "cell_type": "code",
      "metadata": {
        "colab": {
          "base_uri": "https://localhost:8080/"
        },
        "id": "ZwGy8UCzkZLi",
        "outputId": "f3b10170-bdee-4432-89a8-f4470f77e53b"
      },
      "source": [
        "#Inputs/ Fan: Fan power, Temp: Temperature, I_stack: Stack current, \n",
        "#Outputs/ V_stack: Stack voltage\n",
        "\n",
        "V_stack=[]\n",
        "I_stack=[]\n",
        "Temp=[]\n",
        "H_2=[]\n",
        "Fan=[]\n",
        "P_stack=[]\n",
        "\n",
        "# The data of each parapmeter in the scv file is divided into 10 rows. Therefoe, to obtain the whole data of each stack parameters, the data should be appended in the same vector. \n",
        "V_stack_index=[]\n",
        "I_stack_index=[]\n",
        "Temp_index=[]\n",
        "H_2_index=[]\n",
        "Fan_index=[]\n",
        "P_stack_index=[]\n",
        "\n",
        "with urllib.request.urlopen('https://raw.githubusercontent.com/Mohamed-derbeli/Fuel-cell-system/main/FC50_All_data00.csv') as csvfile:\n",
        "    read_file = csv.reader(codecs.iterdecode(csvfile, 'utf-8'), delimiter=',')\n",
        "    # next(read_file) # next() used to skip the first row \n",
        "\n",
        "    # i=0\n",
        "    for i in range(0,6,1):  \n",
        "        for number in range(i, 60, 6):\n",
        "          if i==0:\n",
        "            V_stack_index.append(number)\n",
        "          if i==1:\n",
        "            I_stack_index.append(number)\n",
        "          if i==2:\n",
        "            Temp_index.append(number)\n",
        "          if i==3:\n",
        "            H_2_index.append(number)\n",
        "          if i==4:\n",
        "            Fan_index.append(number)\n",
        "          if i==5:\n",
        "            P_stack_index.append(number)\n",
        "    print(\"V_stack_index = \", V_stack_index)\n",
        "    print(\"I_stack_index = \",I_stack_index)\n",
        "    print(\"Temp_index = \",Temp_index)\n",
        "    print(\"H_2_index = \",H_2_index)\n",
        "    print(\"Fan_index = \",Fan_index)\n",
        "    print(\"P_stack_index = \",P_stack_index)\n",
        "    counter=0    \n",
        "    for row in read_file:\n",
        "      if counter in V_stack_index:\n",
        "        V_stack.append(row)\n",
        "      if counter in I_stack_index:\n",
        "        I_stack.append(row)\n",
        "      if counter in Temp_index:\n",
        "        Temp.append(row)\n",
        "      if counter in H_2_index:\n",
        "        H_2.append(row)\n",
        "      if counter in Fan_index:\n",
        "        Fan.append(row)\n",
        "      if counter in P_stack_index:\n",
        "        P_stack.append(row)\n",
        "      counter=counter+1\n",
        "    print(\"\\n V_stack = \",V_stack[0][0:10])\n",
        "    print(\"I_stack= \",I_stack[0][0:10])\n",
        "    print(\"Temp = \",Temp[0][0:10])\n",
        "    print(\"H_2 = \", H_2[0][0:10])\n",
        "    print(\"Fan = \", Fan[0][0:10])\n",
        "    print(\"P_stack = \", P_stack[0][0:10])\n",
        "\n",
        "        # labels.append(row[0])\n",
        "        # sentence=row[1]\n",
        "        # # for word in stopwords:\n",
        "        # #     token= \" \" + word + \" \" # we used \" \" to add space before and after the word\n",
        "        # #     sentence=sentence.replace(token,\" \") #remove the stopwords from the senctencs\n",
        "        # #     sentence=sentence.replace(\"  \",\" \") #when there are 2 successively changes, they will cause 2 spaces and these should be removed\n",
        "        # sentences.append(sentence)"
      ],
      "execution_count": 162,
      "outputs": [
        {
          "output_type": "stream",
          "name": "stdout",
          "text": [
            "V_stack_index =  [0, 6, 12, 18, 24, 30, 36, 42, 48, 54]\n",
            "I_stack_index =  [1, 7, 13, 19, 25, 31, 37, 43, 49, 55]\n",
            "Temp_index =  [2, 8, 14, 20, 26, 32, 38, 44, 50, 56]\n",
            "H_2_index =  [3, 9, 15, 21, 27, 33, 39, 45, 51, 57]\n",
            "Fan_index =  [4, 10, 16, 22, 28, 34, 40, 46, 52, 58]\n",
            "P_stack_index =  [5, 11, 17, 23, 29, 35, 41, 47, 53, 59]\n",
            "\n",
            " V_stack =  ['6.45', '6.09', '5.34', '4.41', '4.61', '5.52', '6.04', '6.52', '6.93', '7.16']\n",
            "I_stack=  ['2.33', '2.97', '4.43', '6.58', '5.99', '4.17', '3.2', '2.34', '1.7', '1.34']\n",
            "Temp =  ['25.6', '25.6', '25.5', '25.5', '25.5', '25.6', '25.6', '25.6', '25.7', '25.8']\n",
            "H_2 =  ['141', '165', '1036', '1036', '1036', '780', '1036', '1036', '648', '138']\n",
            "Fan =  ['10', '10', '10', '10', '10', '10', '10', '10', '10', '10']\n",
            "P_stack =  ['15.0285', '18.0873', '23.6562', '29.0178', '27.6139', '23.0184', '19.328', '15.2568', '11.781', '9.5944']\n"
          ]
        }
      ]
    },
    {
      "cell_type": "code",
      "metadata": {
        "colab": {
          "base_uri": "https://localhost:8080/"
        },
        "id": "_coIyEZv59Qf",
        "outputId": "2674f28a-166e-4828-db98-c37c8f93df96"
      },
      "source": [
        "# !gdown \"https://github.com/Mohamed-derbeli/Fuel-cell-system/blob/main/FC50_All_data00.csv\"\n",
        "# Get the current working directory\n",
        "# directory_path = os.getcwd()\n",
        "# print(\"Current working directory: \", directory_path)"
      ],
      "execution_count": 3,
      "outputs": [
        {
          "output_type": "stream",
          "name": "stdout",
          "text": [
            "Downloading...\n",
            "From: https://github.com/Mohamed-derbeli/Fuel-cell-system/blob/main/FC50_All_data00.csv\n",
            "To: /content/FC50_All_data00.csv\n",
            "\r0.00B [00:00, ?B/s]\r134kB [00:00, 17.7MB/s]\n"
          ]
        }
      ]
    },
    {
      "cell_type": "code",
      "metadata": {
        "colab": {
          "base_uri": "https://localhost:8080/",
          "height": 231
        },
        "id": "VIPClVcc9RNI",
        "outputId": "5e88fcc8-4987-4a0b-8794-5891cc7356b3"
      },
      "source": [
        "#  with open('./FC50_All_data00.csv','r') as csvfile:\n",
        "# #   read_data =  pd.read_excel(exelfile)\n",
        "#     read_data = csv.reader(csvfile, delimiter=',')\n",
        "#     next(read_data)\n",
        "#     print(read_data)\n",
        "#     I=[]\n",
        "#     for row in read_data:\n",
        "#       I.append(row)\n",
        "#     print(I)\n",
        "\n",
        "\n",
        "\n",
        "  # Load the xlsx file\n",
        "#excel_data = pd.read_excel('./FC50_All_data00.xlsx')\n",
        "# Read the values of the file in the dataframe\n",
        "# data = pd.DataFrame(excel_data, columns=[])\n",
        "# # Print the content\n",
        "# print(\"The content of the file is:\\n\", data)"
      ],
      "execution_count": null,
      "outputs": [
        {
          "output_type": "error",
          "ename": "FileNotFoundError",
          "evalue": "ignored",
          "traceback": [
            "\u001b[0;31m---------------------------------------------------------------------------\u001b[0m",
            "\u001b[0;31mFileNotFoundError\u001b[0m                         Traceback (most recent call last)",
            "\u001b[0;32m<ipython-input-19-fb90c99887ea>\u001b[0m in \u001b[0;36m<module>\u001b[0;34m()\u001b[0m\n\u001b[0;32m----> 1\u001b[0;31m \u001b[0;32mwith\u001b[0m \u001b[0mopen\u001b[0m\u001b[0;34m(\u001b[0m\u001b[0;34m'https://github.com/Mohamed-derbeli/Fuel-cell-system/blob/main/FC50_All_data00.csv'\u001b[0m\u001b[0;34m,\u001b[0m\u001b[0;34m'r'\u001b[0m\u001b[0;34m)\u001b[0m \u001b[0;32mas\u001b[0m \u001b[0mcsvfile\u001b[0m\u001b[0;34m:\u001b[0m\u001b[0;34m\u001b[0m\u001b[0;34m\u001b[0m\u001b[0m\n\u001b[0m\u001b[1;32m      2\u001b[0m   \u001b[0mread_data\u001b[0m \u001b[0;34m=\u001b[0m \u001b[0mcsv\u001b[0m\u001b[0;34m.\u001b[0m\u001b[0mreader\u001b[0m\u001b[0;34m(\u001b[0m\u001b[0mcsvfile\u001b[0m\u001b[0;34m,\u001b[0m \u001b[0mdelimiter\u001b[0m\u001b[0;34m=\u001b[0m\u001b[0;34m','\u001b[0m\u001b[0;34m)\u001b[0m\u001b[0;34m\u001b[0m\u001b[0;34m\u001b[0m\u001b[0m\n\u001b[1;32m      3\u001b[0m \u001b[0;31m#   read_data =  pd.read_excel(exelfile)\u001b[0m\u001b[0;34m\u001b[0m\u001b[0;34m\u001b[0m\u001b[0;34m\u001b[0m\u001b[0m\n\u001b[1;32m      4\u001b[0m \u001b[0;34m\u001b[0m\u001b[0m\n\u001b[1;32m      5\u001b[0m \u001b[0;34m\u001b[0m\u001b[0m\n",
            "\u001b[0;31mFileNotFoundError\u001b[0m: [Errno 2] No such file or directory: 'https://github.com/Mohamed-derbeli/Fuel-cell-system/blob/main/FC50_All_data00.csv'"
          ]
        }
      ]
    },
    {
      "cell_type": "code",
      "metadata": {
        "colab": {
          "base_uri": "https://localhost:8080/"
        },
        "id": "er_eEDlyvxKI",
        "outputId": "1c9d42be-396e-4e78-a158-fbb0bcdb18b8"
      },
      "source": [
        "#path= f\"{getcwd()}/../tmp2/FC50_All_data00.xlsx\"\n",
        "\n",
        "# Get the current working directory\n",
        "directory_path = os.getcwd()\n",
        "print(\"Current working directory: \", directory_path)\n",
        "# Change the current working directory\n",
        "# os.chdir('/tmp')\n",
        "# print(\"Current working directory: \", directory_path)\n",
        "\n",
        "#read_data = open(directory_path) \n",
        "# pd.read_excel (path)\n",
        "\n"
      ],
      "execution_count": null,
      "outputs": [
        {
          "output_type": "stream",
          "name": "stdout",
          "text": [
            "Current working directory:  /content\n"
          ]
        }
      ]
    }
  ]
}