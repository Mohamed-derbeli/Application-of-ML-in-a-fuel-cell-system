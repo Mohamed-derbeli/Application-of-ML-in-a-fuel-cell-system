{
  "nbformat": 4,
  "nbformat_minor": 0,
  "metadata": {
    "colab": {
      "name": "Modeling_of_a_Commercial_Heliocentris_PEMFC_System.ipynb",
      "provenance": [],
      "authorship_tag": "ABX9TyNGRaQp2cBYyOImggNyhpXs",
      "include_colab_link": true
    },
    "kernelspec": {
      "name": "python3",
      "display_name": "Python 3"
    },
    "language_info": {
      "name": "python"
    }
  },
  "cells": [
    {
      "cell_type": "markdown",
      "metadata": {
        "id": "view-in-github",
        "colab_type": "text"
      },
      "source": [
        "<a href=\"https://colab.research.google.com/github/Mohamed-derbeli/Fuel-cell-system/blob/main/Modeling_of_a_Commercial_Heliocentris_PEMFC_System.ipynb\" target=\"_parent\"><img src=\"https://colab.research.google.com/assets/colab-badge.svg\" alt=\"Open In Colab\"/></a>"
      ]
    },
    {
      "cell_type": "code",
      "metadata": {
        "id": "CC-ifprX7C0p"
      },
      "source": [
        "import tensorflow as tf\n",
        "import numpy as np\n",
        "import pandas as pd\n",
        "import csv\n",
        "import os\n",
        "from os import getcwd\n",
        "import urllib.request\n",
        "# from urllib.request import urlopen\n",
        "from urllib.request import urlretrieve\n",
        "from tensorflow import keras"
      ],
      "execution_count": 67,
      "outputs": []
    },
    {
      "cell_type": "code",
      "metadata": {
        "id": "ZwGy8UCzkZLi",
        "outputId": "cefd6d62-4f1b-49f6-ef90-251aaad92e11",
        "colab": {
          "base_uri": "https://localhost:8080/",
          "height": 129
        }
      },
      "source": [
        "# with urllib.request.urlopen('https://raw.githubusercontent.com/Mohamed-derbeli/Fuel-cell-system/main/FC50_All_data00.csv') as csvfile:\n",
        "#   read_data = csvfile.read().decode('utf-8')\n",
        "#     print(read_data[0:50])\n",
        "\n",
        "\n",
        "\n",
        "with urllib.request.urlopen('https://raw.githubusercontent.com/Mohamed-derbeli/Fuel-cell-system/main/FC50_All_data00.xlsx') as excelfile:\n",
        "  read_data = pd.read_excel(excelfile,'r')\n",
        "  #read_data=pd.array(read_data)\n",
        "  # .decode('utf-8')\n",
        "  # print(read_data[0:50])\n",
        "  # for row in read_data:\n",
        "  #   print(row[1])\n",
        "\n",
        "\n",
        "\n",
        "\n",
        "  #read_data= csv.reader(csvfile, delimiter=',') \n",
        "    \n",
        "    # html = csvfile.read().decode('utf-8')\n"
      ],
      "execution_count": 99,
      "outputs": [
        {
          "output_type": "error",
          "ename": "SyntaxError",
          "evalue": "ignored",
          "traceback": [
            "\u001b[0;36m  File \u001b[0;32m\"<ipython-input-99-ca82bd03c703>\"\u001b[0;36m, line \u001b[0;32m12\u001b[0m\n\u001b[0;31m    class ExcelFile(object):\u001b[0m\n\u001b[0m        ^\u001b[0m\n\u001b[0;31mSyntaxError\u001b[0m\u001b[0;31m:\u001b[0m invalid syntax\n"
          ]
        }
      ]
    },
    {
      "cell_type": "code",
      "metadata": {
        "colab": {
          "base_uri": "https://localhost:8080/"
        },
        "id": "_coIyEZv59Qf",
        "outputId": "19e16cae-ca8c-4bb0-aa34-8136485f1713"
      },
      "source": [
        "!gdown \"https://github.com/Mohamed-derbeli/Fuel-cell-system/blob/main/FC50_All_data00.csv\"\n",
        "# Get the current working directory\n",
        "# directory_path = os.getcwd()\n",
        "# print(\"Current working directory: \", directory_path)"
      ],
      "execution_count": 17,
      "outputs": [
        {
          "output_type": "stream",
          "name": "stdout",
          "text": [
            "Downloading...\n",
            "From: https://github.com/Mohamed-derbeli/Fuel-cell-system/blob/main/FC50_All_data00.csv\n",
            "To: /content/FC50_All_data00.csv\n",
            "\r0.00B [00:00, ?B/s]\r134kB [00:00, 2.12MB/s]\n"
          ]
        }
      ]
    },
    {
      "cell_type": "code",
      "metadata": {
        "colab": {
          "base_uri": "https://localhost:8080/",
          "height": 231
        },
        "id": "VIPClVcc9RNI",
        "outputId": "5e88fcc8-4987-4a0b-8794-5891cc7356b3"
      },
      "source": [
        " with open('https://github.com/Mohamed-derbeli/Fuel-cell-system/blob/main/FC50_All_data00.csv','r') as csvfile:\n",
        "   read_data = csv.reader(csvfile, delimiter=',')\n",
        "#   read_data =  pd.read_excel(exelfile)\n",
        "\n",
        "\n",
        "#  with open('./FC50_All_data00.csv','r') as csvfile:\n",
        "# #   read_data =  pd.read_excel(exelfile)\n",
        "#     read_data = csv.reader(csvfile, delimiter=',')\n",
        "#     next(read_data)\n",
        "#     print(read_data)\n",
        "#     I=[]\n",
        "#     for row in read_data:\n",
        "#       I.append(row)\n",
        "#     print(I)\n",
        "\n",
        "\n",
        "\n",
        "  # Load the xlsx file\n",
        "#excel_data = pd.read_excel('./FC50_All_data00.xlsx')\n",
        "# Read the values of the file in the dataframe\n",
        "# data = pd.DataFrame(excel_data, columns=[])\n",
        "# # Print the content\n",
        "# print(\"The content of the file is:\\n\", data)"
      ],
      "execution_count": 19,
      "outputs": [
        {
          "output_type": "error",
          "ename": "FileNotFoundError",
          "evalue": "ignored",
          "traceback": [
            "\u001b[0;31m---------------------------------------------------------------------------\u001b[0m",
            "\u001b[0;31mFileNotFoundError\u001b[0m                         Traceback (most recent call last)",
            "\u001b[0;32m<ipython-input-19-fb90c99887ea>\u001b[0m in \u001b[0;36m<module>\u001b[0;34m()\u001b[0m\n\u001b[0;32m----> 1\u001b[0;31m \u001b[0;32mwith\u001b[0m \u001b[0mopen\u001b[0m\u001b[0;34m(\u001b[0m\u001b[0;34m'https://github.com/Mohamed-derbeli/Fuel-cell-system/blob/main/FC50_All_data00.csv'\u001b[0m\u001b[0;34m,\u001b[0m\u001b[0;34m'r'\u001b[0m\u001b[0;34m)\u001b[0m \u001b[0;32mas\u001b[0m \u001b[0mcsvfile\u001b[0m\u001b[0;34m:\u001b[0m\u001b[0;34m\u001b[0m\u001b[0;34m\u001b[0m\u001b[0m\n\u001b[0m\u001b[1;32m      2\u001b[0m   \u001b[0mread_data\u001b[0m \u001b[0;34m=\u001b[0m \u001b[0mcsv\u001b[0m\u001b[0;34m.\u001b[0m\u001b[0mreader\u001b[0m\u001b[0;34m(\u001b[0m\u001b[0mcsvfile\u001b[0m\u001b[0;34m,\u001b[0m \u001b[0mdelimiter\u001b[0m\u001b[0;34m=\u001b[0m\u001b[0;34m','\u001b[0m\u001b[0;34m)\u001b[0m\u001b[0;34m\u001b[0m\u001b[0;34m\u001b[0m\u001b[0m\n\u001b[1;32m      3\u001b[0m \u001b[0;31m#   read_data =  pd.read_excel(exelfile)\u001b[0m\u001b[0;34m\u001b[0m\u001b[0;34m\u001b[0m\u001b[0;34m\u001b[0m\u001b[0m\n\u001b[1;32m      4\u001b[0m \u001b[0;34m\u001b[0m\u001b[0m\n\u001b[1;32m      5\u001b[0m \u001b[0;34m\u001b[0m\u001b[0m\n",
            "\u001b[0;31mFileNotFoundError\u001b[0m: [Errno 2] No such file or directory: 'https://github.com/Mohamed-derbeli/Fuel-cell-system/blob/main/FC50_All_data00.csv'"
          ]
        }
      ]
    },
    {
      "cell_type": "code",
      "metadata": {
        "colab": {
          "base_uri": "https://localhost:8080/"
        },
        "id": "er_eEDlyvxKI",
        "outputId": "1c9d42be-396e-4e78-a158-fbb0bcdb18b8"
      },
      "source": [
        "#path= f\"{getcwd()}/../tmp2/FC50_All_data00.xlsx\"\n",
        "\n",
        "# Get the current working directory\n",
        "directory_path = os.getcwd()\n",
        "print(\"Current working directory: \", directory_path)\n",
        "# Change the current working directory\n",
        "# os.chdir('/tmp')\n",
        "# print(\"Current working directory: \", directory_path)\n",
        "\n",
        "#read_data = open(directory_path) \n",
        "# pd.read_excel (path)\n",
        "\n"
      ],
      "execution_count": null,
      "outputs": [
        {
          "output_type": "stream",
          "name": "stdout",
          "text": [
            "Current working directory:  /content\n"
          ]
        }
      ]
    },
    {
      "cell_type": "code",
      "metadata": {
        "id": "cYmPkCKUFEl6",
        "colab": {
          "base_uri": "https://localhost:8080/",
          "height": 129
        },
        "outputId": "c7be8d52-5548-46a2-e6ec-e8a0146c501e"
      },
      "source": [
        "#Inputs/ Fan: Fan power, Temp: Temperature, I_stack: Stack current, \n",
        "#Outputs/ V_stack: Stack voltage\n",
        "\n",
        "# with open('/tmp/tmpw_yw5r7x') as exelfile:\n",
        "#     read_data =  pd.read_excel(exelfile)\n",
        "# read_data = open(\"https://drive.google.com/drive/search?q=fc50_all_data00\")#FC50_All_data00.txt\",'r')   \n",
        "# Fan=[]\n",
        "# Temp=[]\n",
        "# I_stack=[]\n",
        "# V_stack=[]\n",
        "\n",
        "# for row in read_data:\n",
        "#   print(row[0])\n",
        "    #   if row== 1:7:55 \n",
        "    #     V_stack.append(row[0:])\n",
        "      # if row[0]=='0':\n",
        "      #     list_item.append(0)\n",
        "      #   else:\n",
        "      #       list_item.append(1)\n",
        "        ### END CODE HERE\n",
        "        # num_sentences = num_sentences + 1\n",
        "        # corpus.append(list_item)"
      ],
      "execution_count": null,
      "outputs": [
        {
          "output_type": "error",
          "ename": "SyntaxError",
          "evalue": "ignored",
          "traceback": [
            "\u001b[0;36m  File \u001b[0;32m\"<ipython-input-42-d41da8eb0df1>\"\u001b[0;36m, line \u001b[0;32m22\u001b[0m\n\u001b[0;31m    # corpus.append(list_item)\u001b[0m\n\u001b[0m                              ^\u001b[0m\n\u001b[0;31mSyntaxError\u001b[0m\u001b[0;31m:\u001b[0m unexpected EOF while parsing\n"
          ]
        }
      ]
    }
  ]
}