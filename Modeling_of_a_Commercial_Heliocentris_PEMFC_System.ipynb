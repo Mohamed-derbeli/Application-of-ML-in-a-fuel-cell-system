{
  "nbformat": 4,
  "nbformat_minor": 0,
  "metadata": {
    "colab": {
      "name": "Modeling_of_a_Commercial_Heliocentris_PEMFC_System.ipynb",
      "provenance": [],
      "authorship_tag": "ABX9TyMhQPum3BrGVqHurHfY79Td",
      "include_colab_link": true
    },
    "kernelspec": {
      "name": "python3",
      "display_name": "Python 3"
    },
    "language_info": {
      "name": "python"
    }
  },
  "cells": [
    {
      "cell_type": "markdown",
      "metadata": {
        "id": "view-in-github",
        "colab_type": "text"
      },
      "source": [
        "<a href=\"https://colab.research.google.com/github/Mohamed-derbeli/Fuel-cell-system/blob/main/Modeling_of_a_Commercial_Heliocentris_PEMFC_System.ipynb\" target=\"_parent\"><img src=\"https://colab.research.google.com/assets/colab-badge.svg\" alt=\"Open In Colab\"/></a>"
      ]
    },
    {
      "cell_type": "code",
      "metadata": {
        "id": "CC-ifprX7C0p"
      },
      "source": [
        "import tensorflow as tf\n",
        "from tensorflow import keras\n",
        "import numpy as np\n",
        "import pandas as pd\n",
        "import csv\n",
        "import urllib.request\n",
        "import codecs\n",
        "import matplotlib.pyplot as plt"
      ],
      "execution_count": 1,
      "outputs": []
    },
    {
      "cell_type": "code",
      "metadata": {
        "id": "OyO7ybwanKPs"
      },
      "source": [
        "# with urllib.request.urlopen('https://raw.githubusercontent.com/Mohamed-derbeli/Fuel-cell-system/main/FC50_All_data00.csv') as csvfile:\n",
        "#    read_data = csvfile.read().decode('utf-8')\n",
        "#    print(read_data[0:50])"
      ],
      "execution_count": 2,
      "outputs": []
    },
    {
      "cell_type": "code",
      "metadata": {
        "colab": {
          "base_uri": "https://localhost:8080/"
        },
        "id": "ZwGy8UCzkZLi",
        "outputId": "47b2143c-96b2-46c8-c5d3-29976535c246"
      },
      "source": [
        "#Inputs/ Fan: Fan power, Temp: Temperature, I_stack: Stack current, \n",
        "#Outputs/ V_stack: Stack voltage\n",
        "V_stack=[]\n",
        "I_stack=[]\n",
        "Temp=[]\n",
        "H_2=[]\n",
        "Fan=[]\n",
        "P_stack=[]\n",
        "# The data of each parapmeter in the scv file is divided into 10 rows. Therefoe, to obtain the whole data of each stack parameters, the data should be appended in the same vector. \n",
        "V_stack_index=[]\n",
        "I_stack_index=[]\n",
        "Temp_index=[]\n",
        "H_2_index=[]\n",
        "Fan_index=[]\n",
        "P_stack_index=[]\n",
        "\n",
        "with urllib.request.urlopen('https://raw.githubusercontent.com/Mohamed-derbeli/Fuel-cell-system/main/FC50_All_data00.csv') as csvfile:\n",
        "    read_file = csv.reader(codecs.iterdecode(csvfile, 'utf-8'), delimiter=',')\n",
        "    # next(read_file) # next() used to skip the first row \n",
        "\n",
        "    for i in range(0,6): # 6 rows of each tables \n",
        "        for number in range(i, 60, 6): #total of all rows is 60\n",
        "          if i==0:\n",
        "            V_stack_index.append(number)\n",
        "          if i==1:\n",
        "            I_stack_index.append(number)\n",
        "          if i==2:\n",
        "            Temp_index.append(number)\n",
        "          if i==3:\n",
        "            H_2_index.append(number)\n",
        "          if i==4:\n",
        "            Fan_index.append(number)\n",
        "          if i==5:\n",
        "            P_stack_index.append(number)\n",
        "    print(\"V_stack_index = \", V_stack_index)\n",
        "    print(\"I_stack_index = \",I_stack_index)\n",
        "    print(\"Temp_index = \",Temp_index)\n",
        "    print(\"H_2_index = \",H_2_index)\n",
        "    print(\"Fan_index = \",Fan_index)\n",
        "    print(\"P_stack_index = \",P_stack_index)\n",
        "    counter=0    \n",
        "    for row in read_file:\n",
        "      #clean the empty cells\n",
        "      j=0\n",
        "      for item in row:\n",
        "        j=j+1\n",
        "        if item ==\"\":\n",
        "          row=row[0:j-1]\n",
        "      # print(j)\n",
        "      #append the rows of the same parameter\n",
        "      if counter in V_stack_index:\n",
        "        for k1 in row: \n",
        "          V_stack.append(k1) \n",
        "          # this loop is used to fill in V_stack item by item and get 1 dimension vector,\n",
        "          # if we directly append(row) without looping then the shape of V_stack will be \n",
        "          # 2 dimension (10 rows, each has differnet length), this will cause difficults \n",
        "          # to reshape V_stack since the rows length are not the same.        \n",
        "      if counter in I_stack_index:\n",
        "        for k2 in row:\n",
        "          I_stack.append(k2)\n",
        "      if counter in Temp_index:\n",
        "        for k3 in row:\n",
        "          Temp.append(k3)\n",
        "      if counter in Fan_index:\n",
        "        for k4 in row:\n",
        "          Fan.append(k4)\n",
        "      if counter in H_2_index:\n",
        "        for k5 in row:\n",
        "          H_2.append(k5)\n",
        "      if counter in P_stack_index:\n",
        "        for k6 in row:\n",
        "          P_stack.append(k6)\n",
        "      counter=counter+1\n",
        "    print(\"\\n V_stack = \",V_stack[0:10])\n",
        "    print(\"I_stack= \",I_stack[0:10])\n",
        "    print(\"Temp = \",Temp[0:10])\n",
        "    print(\"Fan = \", Fan[0:10])\n",
        "    print(\"H_2 = \", H_2[0:10])\n",
        "    print(\"P_stack = \", P_stack[0:10])\n",
        "\n",
        "    \n",
        "    # print(\"\\n dimentiones of V_stack are: \", [len(a) for a in V_stack])\n",
        "    # print(\"Total length of V_stack: \", sum(len(a) for a in V_stack))"
      ],
      "execution_count": 3,
      "outputs": [
        {
          "output_type": "stream",
          "name": "stdout",
          "text": [
            "V_stack_index =  [0, 6, 12, 18, 24, 30, 36, 42, 48, 54]\n",
            "I_stack_index =  [1, 7, 13, 19, 25, 31, 37, 43, 49, 55]\n",
            "Temp_index =  [2, 8, 14, 20, 26, 32, 38, 44, 50, 56]\n",
            "H_2_index =  [3, 9, 15, 21, 27, 33, 39, 45, 51, 57]\n",
            "Fan_index =  [4, 10, 16, 22, 28, 34, 40, 46, 52, 58]\n",
            "P_stack_index =  [5, 11, 17, 23, 29, 35, 41, 47, 53, 59]\n",
            "\n",
            " V_stack =  ['6.45', '6.09', '5.34', '4.41', '4.61', '5.52', '6.04', '6.52', '6.93', '7.16']\n",
            "I_stack=  ['2.33', '2.97', '4.43', '6.58', '5.99', '4.17', '3.2', '2.34', '1.7', '1.34']\n",
            "Temp =  ['25.6', '25.6', '25.5', '25.5', '25.5', '25.6', '25.6', '25.6', '25.7', '25.8']\n",
            "Fan =  ['10', '10', '10', '10', '10', '10', '10', '10', '10', '10']\n",
            "H_2 =  ['141', '165', '1036', '1036', '1036', '780', '1036', '1036', '648', '138']\n",
            "P_stack =  ['15.0285', '18.0873', '23.6562', '29.0178', '27.6139', '23.0184', '19.328', '15.2568', '11.781', '9.5944']\n"
          ]
        }
      ]
    },
    {
      "cell_type": "code",
      "metadata": {
        "colab": {
          "base_uri": "https://localhost:8080/",
          "height": 299
        },
        "id": "AWTHoV0HQsmU",
        "outputId": "e68d41a8-8168-4554-e584-408b57c6b09e"
      },
      "source": [
        "V_stack=np.array(V_stack, dtype=float)\n",
        "I_stack=np.array(I_stack, dtype=float)\n",
        "Temp=np.array(Temp, dtype=float)\n",
        "Fan=np.array(Fan, dtype=float)\n",
        "H_2=np.array(H_2, dtype=float)\n",
        "P_stack=np.array(P_stack, dtype=float)\n",
        "\n",
        "#Data normalization\n",
        "V_stack=V_stack/10\n",
        "I_stack=I_stack/10\n",
        "Temp=Temp/50\n",
        "Fan=Fan/100\n",
        "H_2=H_2/1100\n",
        "P_stack=P_stack/50\n",
        "\n",
        "print(V_stack[0:10])\n",
        "\n",
        "plt.scatter(I_stack, P_stack)\n",
        "plt.scatter(I_stack, V_stack)\n"
      ],
      "execution_count": 4,
      "outputs": [
        {
          "output_type": "stream",
          "name": "stdout",
          "text": [
            "[0.645 0.609 0.534 0.441 0.461 0.552 0.604 0.652 0.693 0.716]\n"
          ]
        },
        {
          "output_type": "execute_result",
          "data": {
            "text/plain": [
              "<matplotlib.collections.PathCollection at 0x7f522e9435d0>"
            ]
          },
          "metadata": {},
          "execution_count": 4
        },
        {
          "output_type": "display_data",
          "data": {
            "image/png": "[encoded data removed]",
            "text/plain": [
              "<Figure size 432x288 with 1 Axes>"
            ]
          },
          "metadata": {
            "needs_background": "light"
          }
        }
      ]
    },
    {
      "cell_type": "code",
      "metadata": {
        "colab": {
          "base_uri": "https://localhost:8080/",
          "height": 332
        },
        "id": "jJeK-2XIp8Dh",
        "outputId": "b35b3f45-2b37-4367-820b-b9879f4c4b93"
      },
      "source": [
        "Total_size=len(V_stack)\n",
        "Training_size= int(.8 * Total_size)\n",
        "Testing_size= Total_size - Training_size\n",
        "\n",
        "#training data\n",
        "V_stack_train=V_stack[:Training_size]\n",
        "I_stack_train=I_stack[:Training_size]\n",
        "Temp_train=Temp[:Training_size]\n",
        "Fan_train=Fan[:Training_size]\n",
        "H_2_train=H_2[:Training_size]\n",
        "P_stack_train=P_stack[:Training_size]\n",
        "\n",
        "#testing data\n",
        "V_stack_test=V_stack[Training_size:]\n",
        "I_stack_test=I_stack[Training_size:]\n",
        "Temp_test=Temp[Training_size:]\n",
        "Fan_test=Fan[Training_size:]\n",
        "H_2_test=H_2[Training_size:]\n",
        "P_stack_test=P_stack[Training_size:]\n",
        "\n",
        "print(\"Total_size= \", Total_size)\n",
        "print(\"Training_size= \", Training_size)\n",
        "print(\"Testing_size= \", Testing_size)\n",
        "# print(len(V_stack_train))\n",
        "\n",
        "# plt.scatter(I_stack_train, P_stack_train)\n",
        "# plt.scatter(I_stack_train, V_stack_train)\n",
        "\n",
        "# plt.scatter(I_stack_test, P_stack_test)\n",
        "# plt.scatter(I_stack_test, V_stack_test)\n",
        "\n",
        "\n",
        "\n",
        "fig, ax = plt.subplots(2, 2)\n",
        "\n",
        "ax[0, 0].plot(I_stack_train[:2000], P_stack_train[0:2000], 'r', label='Istack Vs Pstack') #row=0, col=0\n",
        "ax[0, 0].title.set_text('Training dataset')\n",
        "ax[1, 0].plot(I_stack_train[0:2000], V_stack_train[0:2000], 'b', label='Istack Vs Vstack') #row=1, col=0\n",
        "ax[1, 0].title.set_text('Training dataset')\n",
        "ax[0, 1].plot(I_stack_test[:1000], P_stack_test[0:1000], 'g', label='Istack Vs Pstack') #row=0, col=1\n",
        "ax[0, 1].title.set_text('Test dataset')\n",
        "ax[1, 1].plot(I_stack_test[0:1000], V_stack_test[0:1000], 'm', label='Istack Vs Vstack') #row=1, col=1\n",
        "ax[1, 1].title.set_text('Test Plot')\n",
        "plt.show()\n",
        "\n",
        "\n",
        "# plt.plot(I_stack_train[:2000], P_stack_train[0:2000], 'r', label='Istack Vs Pstack')\n",
        "# plt.title('Training dataset')\n",
        "# plt.legend()\n",
        "# plt.figure()\n",
        "# plt.plot(I_stack_train[0:2000], V_stack_train[0:2000], 'b', label='Istack Vs Vstack')\n",
        "# plt.title('Training dataset')\n",
        "# plt.legend()\n",
        "# plt.figure()\n",
        "\n",
        "\n",
        "# plt.plot(I_stack_test[:1000], P_stack_test[0:1000], 'g', label='Istack Vs Pstack')\n",
        "# plt.title('Test dataset')\n",
        "# plt.legend()\n",
        "# plt.figure()\n",
        "# plt.plot(I_stack_test[0:1000], V_stack_test[0:1000], 'm', label='Istack Vs Vstack')\n",
        "# plt.title('Test dataset')\n",
        "# plt.legend()\n",
        "# plt.figure()\n",
        "\n",
        "\n",
        "\n",
        "# plt.show()\n",
        "\n",
        "\n"
      ],
      "execution_count": 9,
      "outputs": [
        {
          "output_type": "stream",
          "name": "stdout",
          "text": [
            "Total_size=  33856\n",
            "Training_size=  27084\n",
            "Testing_size=  6772\n"
          ]
        },
        {
          "output_type": "display_data",
          "data": {
            "image/png": "[encoded data removed]",
            "text/plain": [
              "<Figure size 432x288 with 4 Axes>"
            ]
          },
          "metadata": {
            "needs_background": "light"
          }
        }
      ]
    },
    {
      "cell_type": "code",
      "metadata": {
        "id": "zzn1A45G1xpO"
      },
      "source": [
        "\n",
        "\n",
        "\n",
        "\n",
        "\n"
      ],
      "execution_count": 5,
      "outputs": []
    },
    {
      "cell_type": "code",
      "metadata": {
        "id": "c-ZQs2jy6Ol-"
      },
      "source": [
        "    DESIRED_ACCURACY = 0.999\n",
        "\n",
        "    class myCallback(tf.keras.callbacks.Callback):\n",
        "        def on_epoch_end(self, epoch, logs={}):\n",
        "            if(logs.get('accuracy') > DESIRED_ACCURACY):\n",
        "                print(\"\\nReached 99% accuracy so cancelling training!\")\n",
        "                self.model.stop_training = True\n",
        "\n",
        "    callbacks = myCallback()"
      ],
      "execution_count": 6,
      "outputs": []
    },
    {
      "cell_type": "code",
      "metadata": {
        "colab": {
          "base_uri": "https://localhost:8080/"
        },
        "id": "_coIyEZv59Qf",
        "outputId": "d8cd6e3f-ad77-4bd7-f2e4-242e6cdfc17d"
      },
      "source": [
        "# !gdown \"https://github.com/Mohamed-derbeli/Fuel-cell-system/blob/main/FC50_All_data00.csv\"\n",
        "# Get the current working directory\n",
        "# directory_path = os.getcwd()\n",
        "# print(\"Current working directory: \", directory_path)\n",
        "\n",
        "#path= f\"{getcwd()}/../tmp2/FC50_All_data00.xlsx\"\n",
        "# Get the current working directory\n",
        "# directory_path = os.getcwd()\n",
        "# print(\"Current working directory: \", directory_path)\n",
        "# Change the current working directory\n",
        "# os.chdir('/tmp')\n",
        "# print(\"Current working directory: \", directory_path)\n",
        "#read_data = open(directory_path) \n",
        "# pd.read_excel (path)\n",
        "\n",
        "#  with open('./FC50_All_data00.csv','r') as csvfile:\n",
        "# #   read_data =  pd.read_excel(exelfile)\n",
        "#     read_data = csv.reader(csvfile, delimiter=',')\n",
        "#     next(read_data)\n",
        "#     print(read_data)\n",
        "#     I=[]\n",
        "#     for row in read_data:\n",
        "#       I.append(row)\n",
        "#     print(I)\n",
        "\n",
        "# Load the xlsx file\n",
        "#excel_data = pd.read_excel('./FC50_All_data00.xlsx')\n",
        "# Read the values of the file in the dataframe\n",
        "# data = pd.DataFrame(excel_data, columns=[])\n",
        "# # Print the content\n",
        "# print(\"The content of the file is:\\n\", data)\n",
        "\n",
        "#Total_size= sum(len(a) for a in V_stack)# for n dimension\n",
        "# V_stack=np.reshape(V_stack,[1,10])\n",
        "x=[]\n",
        "a=  [[0, 6, 12, 18, 24, 30, 36, 42, 48, 54],[0, 6, 12, 18, 24, 30, 36, 42, 48, 54],[0, 6, 12, 18, 24, 30, 36, 42, 48, 54]]\n",
        "b =  [1, 7, 13, 19, 25, 31, 37, 43, 49, 55]\n",
        "c =  [2, 8, 14, 20, 26, 32, 38, 44, 50, 56]\n",
        "d =  [3, 9, 15, 21, 27, 33, 39, 45, 51, 57]\n",
        "x.append(a)\n",
        "x.append(b)\n",
        "a=np.array(a)\n",
        "b=np.array(b)\n",
        "print(x)\n",
        "print(a.shape)\n",
        "print(b[5])"
      ],
      "execution_count": 7,
      "outputs": [
        {
          "output_type": "stream",
          "name": "stdout",
          "text": [
            "[[[0, 6, 12, 18, 24, 30, 36, 42, 48, 54], [0, 6, 12, 18, 24, 30, 36, 42, 48, 54], [0, 6, 12, 18, 24, 30, 36, 42, 48, 54]], [1, 7, 13, 19, 25, 31, 37, 43, 49, 55]]\n",
            "(3, 10)\n",
            "31\n"
          ]
        }
      ]
    }
  ]
}