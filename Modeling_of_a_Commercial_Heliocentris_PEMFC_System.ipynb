{
  "nbformat": 4,
  "nbformat_minor": 0,
  "metadata": {
    "colab": {
      "name": "Modeling_of_a_Commercial_Heliocentris_PEMFC_System.ipynb",
      "provenance": [],
      "authorship_tag": "ABX9TyPgOFvx7iYjm1vTZHab5i+p",
      "include_colab_link": true
    },
    "kernelspec": {
      "name": "python3",
      "display_name": "Python 3"
    },
    "language_info": {
      "name": "python"
    }
  },
  "cells": [
    {
      "cell_type": "markdown",
      "metadata": {
        "id": "view-in-github",
        "colab_type": "text"
      },
      "source": [
        "<a href=\"https://colab.research.google.com/github/Mohamed-derbeli/Fuel-cell-system/blob/main/Modeling_of_a_Commercial_Heliocentris_PEMFC_System.ipynb\" target=\"_parent\"><img src=\"https://colab.research.google.com/assets/colab-badge.svg\" alt=\"Open In Colab\"/></a>"
      ]
    },
    {
      "cell_type": "code",
      "metadata": {
        "id": "CC-ifprX7C0p"
      },
      "source": [
        "import tensorflow as tf\n",
        "import numpy as np\n",
        "import pandas as pd\n",
        "from tensorflow import keras"
      ],
      "execution_count": 1,
      "outputs": []
    },
    {
      "cell_type": "code",
      "metadata": {
        "id": "cYmPkCKUFEl6"
      },
      "source": [
        "#Inputs/ Fan: Fan power, Temp: Temperature, I_stack: Stack current, \n",
        "#Outputs/ V_stack: Stack voltage\n",
        "\n",
        "with open(\"./FC50_All_data00.xlsx\") as exelfile:\n",
        "    read_data =  pd.read_excel (exelfile,)\n",
        "    Fan=[]\n",
        "    Temp=[]\n",
        "    I_stack=[]\n",
        "    V_stack=[]\n",
        "\n",
        "    for row in read_data:    \n",
        "      if row=1 or row =6 or \n",
        "        list_item.append(row[5])\n",
        "        if row[0]=='0':\n",
        "          list_item.append(0)\n",
        "        else:\n",
        "            list_item.append(1)\n",
        "        ### END CODE HERE\n",
        "        num_sentences = num_sentences + 1\n",
        "        corpus.append(list_item)"
      ],
      "execution_count": null,
      "outputs": []
    },
    {
      "cell_type": "code",
      "metadata": {
        "id": "6X_8D498Duyn"
      },
      "source": [
        "mydata = pd.read_excel(\"https://www.eia.gov/dnav/pet/hist_xls/RBRTEd.xls\",sheetname=\"Data 1\", skiprows=2)\n",
        "If you do not specify name of sheet in sheetname= option, it would take by default first sheet."
      ],
      "execution_count": null,
      "outputs": []
    },
    {
      "cell_type": "code",
      "metadata": {
        "id": "j6BDHHpN9fRD"
      },
      "source": [
        "\n",
        "\n",
        "F= \n",
        "\n",
        "\n"
      ],
      "execution_count": null,
      "outputs": []
    }
  ]
}