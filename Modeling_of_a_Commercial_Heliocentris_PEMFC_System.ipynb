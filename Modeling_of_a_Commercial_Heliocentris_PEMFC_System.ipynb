{
  "nbformat": 4,
  "nbformat_minor": 0,
  "metadata": {
    "colab": {
      "name": "Modeling_of_a_Commercial_Heliocentris_PEMFC_System.ipynb",
      "provenance": [],
      "authorship_tag": "ABX9TyMrVh4+UFdljydbDVkzlAoq",
      "include_colab_link": true
    },
    "kernelspec": {
      "name": "python3",
      "display_name": "Python 3"
    },
    "language_info": {
      "name": "python"
    }
  },
  "cells": [
    {
      "cell_type": "markdown",
      "metadata": {
        "id": "view-in-github",
        "colab_type": "text"
      },
      "source": [
        "<a href=\"https://colab.research.google.com/github/Mohamed-derbeli/Fuel-cell-system/blob/main/Modeling_of_a_Commercial_Heliocentris_PEMFC_System.ipynb\" target=\"_parent\"><img src=\"https://colab.research.google.com/assets/colab-badge.svg\" alt=\"Open In Colab\"/></a>"
      ]
    },
    {
      "cell_type": "code",
      "metadata": {
        "id": "CC-ifprX7C0p"
      },
      "source": [
        "import tensorflow as tf\n",
        "import numpy as np\n",
        "import pandas as pd\n",
        "#import urllib.request\n",
        "# from urllib.request import urlopen\n",
        "from urllib.request import urlretrieve\n",
        "from tensorflow import keras"
      ],
      "execution_count": 72,
      "outputs": []
    },
    {
      "cell_type": "code",
      "metadata": {
        "id": "RO1XDl9CzqYl",
        "outputId": "7ec2ed54-d27d-457d-d3e0-0ccf82c3984e",
        "colab": {
          "base_uri": "https://localhost:8080/"
        }
      },
      "source": [
        "print('Beginning file download with urllib2...')\n",
        "urlretrieve('https://github.com/Mohamed-derbeli/Fuel-cell-system/blob/main/FC50_All_data00.csv')"
      ],
      "execution_count": 76,
      "outputs": [
        {
          "output_type": "stream",
          "name": "stdout",
          "text": [
            "Beginning file download with urllib2...\n"
          ]
        },
        {
          "output_type": "execute_result",
          "data": {
            "text/plain": [
              "('/tmp/tmpqnuh7jd7', <http.client.HTTPMessage at 0x7f606d925610>)"
            ]
          },
          "metadata": {},
          "execution_count": 76
        }
      ]
    },
    {
      "cell_type": "code",
      "metadata": {
        "id": "nk4OfGrAxZ4M"
      },
      "source": [
        "#filedata = urlretrieve('https://github.com/Mohamed-derbeli/Fuel-cell-system/blob/main/FC50_All_data00.csv')\n",
        "# datatowrite = filedata.read()\n",
        "# print(datatowrite[0:1000])\n",
        "with open('/tmp/tmpqnuh7jd7', 'r') as f:\n",
        "     data=f.read()\n",
        "    #  print(f[10])"
      ],
      "execution_count": 83,
      "outputs": []
    },
    {
      "cell_type": "code",
      "metadata": {
        "id": "GBd_eIAfpUuy",
        "outputId": "bb8c303d-0a6c-424d-94a3-c7f9051aa89f",
        "colab": {
          "base_uri": "https://localhost:8080/",
          "height": 214
        }
      },
      "source": [
        "#!gdown --id 1596151353\n",
        "link = \"https://github.com/Mohamed-derbeli/Fuel-cell-system/blob/main/FC50_All_data00.xlsx\"\n",
        "f = urlretrieve(link)\n",
        "#myfile = f.read()\n",
        "# print(myfile[25])"
      ],
      "execution_count": 50,
      "outputs": [
        {
          "output_type": "error",
          "ename": "AttributeError",
          "evalue": "ignored",
          "traceback": [
            "\u001b[0;31m---------------------------------------------------------------------------\u001b[0m",
            "\u001b[0;31mAttributeError\u001b[0m                            Traceback (most recent call last)",
            "\u001b[0;32m<ipython-input-50-09c1da0c0310>\u001b[0m in \u001b[0;36m<module>\u001b[0;34m()\u001b[0m\n\u001b[1;32m      2\u001b[0m \u001b[0mlink\u001b[0m \u001b[0;34m=\u001b[0m \u001b[0;34m\"https://github.com/Mohamed-derbeli/Fuel-cell-system/blob/main/FC50_All_data00.xlsx\"\u001b[0m\u001b[0;34m\u001b[0m\u001b[0;34m\u001b[0m\u001b[0m\n\u001b[1;32m      3\u001b[0m \u001b[0mf\u001b[0m \u001b[0;34m=\u001b[0m \u001b[0murlretrieve\u001b[0m\u001b[0;34m(\u001b[0m\u001b[0mlink\u001b[0m\u001b[0;34m)\u001b[0m\u001b[0;34m\u001b[0m\u001b[0;34m\u001b[0m\u001b[0m\n\u001b[0;32m----> 4\u001b[0;31m \u001b[0mmyfile\u001b[0m \u001b[0;34m=\u001b[0m \u001b[0mf\u001b[0m\u001b[0;34m.\u001b[0m\u001b[0mread\u001b[0m\u001b[0;34m(\u001b[0m\u001b[0;34m)\u001b[0m\u001b[0;34m\u001b[0m\u001b[0;34m\u001b[0m\u001b[0m\n\u001b[0m\u001b[1;32m      5\u001b[0m \u001b[0;31m# print(myfile[25])\u001b[0m\u001b[0;34m\u001b[0m\u001b[0;34m\u001b[0m\u001b[0;34m\u001b[0m\u001b[0m\n",
            "\u001b[0;31mAttributeError\u001b[0m: 'tuple' object has no attribute 'read'"
          ]
        }
      ]
    },
    {
      "cell_type": "code",
      "metadata": {
        "id": "cYmPkCKUFEl6",
        "outputId": "91b1d3de-3c5a-4ab4-d99b-abb5f872f50c",
        "colab": {
          "base_uri": "https://localhost:8080/",
          "height": 231
        }
      },
      "source": [
        "#Inputs/ Fan: Fan power, Temp: Temperature, I_stack: Stack current, \n",
        "#Outputs/ V_stack: Stack voltage\n",
        "\n",
        "# with open('C:\\Users\\GCA\\Downloads\\FC50_All_data00.xlsx') as exelfile:\n",
        "    # read_data =  pd.read_excel (exelfile)\n",
        "read_data = open(\"https://drive.google.com/drive/search?q=fc50_all_data00\")#FC50_All_data00.txt\",'r')   \n",
        "Fan=[]\n",
        "Temp=[]\n",
        "I_stack=[]\n",
        "V_stack=[]\n",
        "\n",
        "for row in read_data:\n",
        "  print(row[0])\n",
        "    #   if row== 1:7:55 \n",
        "    #     V_stack.append(row[0:])\n",
        "      # if row[0]=='0':\n",
        "      #     list_item.append(0)\n",
        "      #   else:\n",
        "      #       list_item.append(1)\n",
        "        ### END CODE HERE\n",
        "        # num_sentences = num_sentences + 1\n",
        "        # corpus.append(list_item)"
      ],
      "execution_count": 28,
      "outputs": [
        {
          "output_type": "error",
          "ename": "FileNotFoundError",
          "evalue": "ignored",
          "traceback": [
            "\u001b[0;31m---------------------------------------------------------------------------\u001b[0m",
            "\u001b[0;31mFileNotFoundError\u001b[0m                         Traceback (most recent call last)",
            "\u001b[0;32m<ipython-input-28-c9ad79d6e0b0>\u001b[0m in \u001b[0;36m<module>\u001b[0;34m()\u001b[0m\n\u001b[1;32m      4\u001b[0m \u001b[0;31m# with open('C:\\Users\\GCA\\Downloads\\FC50_All_data00.xlsx') as exelfile:\u001b[0m\u001b[0;34m\u001b[0m\u001b[0;34m\u001b[0m\u001b[0;34m\u001b[0m\u001b[0m\n\u001b[1;32m      5\u001b[0m     \u001b[0;31m# read_data =  pd.read_excel (exelfile)\u001b[0m\u001b[0;34m\u001b[0m\u001b[0;34m\u001b[0m\u001b[0;34m\u001b[0m\u001b[0m\n\u001b[0;32m----> 6\u001b[0;31m \u001b[0mread_data\u001b[0m \u001b[0;34m=\u001b[0m \u001b[0mopen\u001b[0m\u001b[0;34m(\u001b[0m\u001b[0;34m\"https://drive.google.com/drive/search?q=fc50_all_data00\"\u001b[0m\u001b[0;34m)\u001b[0m\u001b[0;31m#FC50_All_data00.txt\",'r')\u001b[0m\u001b[0;34m\u001b[0m\u001b[0;34m\u001b[0m\u001b[0m\n\u001b[0m\u001b[1;32m      7\u001b[0m \u001b[0mFan\u001b[0m\u001b[0;34m=\u001b[0m\u001b[0;34m[\u001b[0m\u001b[0;34m]\u001b[0m\u001b[0;34m\u001b[0m\u001b[0;34m\u001b[0m\u001b[0m\n\u001b[1;32m      8\u001b[0m \u001b[0mTemp\u001b[0m\u001b[0;34m=\u001b[0m\u001b[0;34m[\u001b[0m\u001b[0;34m]\u001b[0m\u001b[0;34m\u001b[0m\u001b[0;34m\u001b[0m\u001b[0m\n",
            "\u001b[0;31mFileNotFoundError\u001b[0m: [Errno 2] No such file or directory: 'https://drive.google.com/drive/search?q=fc50_all_data00'"
          ]
        }
      ]
    },
    {
      "cell_type": "code",
      "metadata": {
        "id": "6X_8D498Duyn"
      },
      "source": [
        "mydata = pd.read_excel(\"https://www.eia.gov/dnav/pet/hist_xls/RBRTEd.xls\",sheetname=\"Data 1\", skiprows=2)\n",
        "If you do not specify name of sheet in sheetname= option, it would take by default first sheet."
      ],
      "execution_count": null,
      "outputs": []
    },
    {
      "cell_type": "code",
      "metadata": {
        "id": "j6BDHHpN9fRD"
      },
      "source": [
        "\n",
        "\n",
        "F= \n",
        "\n",
        "\n"
      ],
      "execution_count": null,
      "outputs": []
    }
  ]
}