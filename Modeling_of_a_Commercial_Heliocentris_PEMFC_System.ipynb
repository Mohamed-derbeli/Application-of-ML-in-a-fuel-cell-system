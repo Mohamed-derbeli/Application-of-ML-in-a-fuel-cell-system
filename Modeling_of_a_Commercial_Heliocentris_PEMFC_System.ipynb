{
  "nbformat": 4,
  "nbformat_minor": 0,
  "metadata": {
    "colab": {
      "name": "Modeling_of_a_Commercial_Heliocentris_PEMFC_System.ipynb",
      "provenance": [],
      "authorship_tag": "ABX9TyPdAgZJ0XlpmYxUaVtM8cjl",
      "include_colab_link": true
    },
    "kernelspec": {
      "name": "python3",
      "display_name": "Python 3"
    },
    "language_info": {
      "name": "python"
    }
  },
  "cells": [
    {
      "cell_type": "markdown",
      "metadata": {
        "id": "view-in-github",
        "colab_type": "text"
      },
      "source": [
        "<a href=\"https://colab.research.google.com/github/Mohamed-derbeli/Fuel-cell-system/blob/main/Modeling_of_a_Commercial_Heliocentris_PEMFC_System.ipynb\" target=\"_parent\"><img src=\"https://colab.research.google.com/assets/colab-badge.svg\" alt=\"Open In Colab\"/></a>"
      ]
    },
    {
      "cell_type": "code",
      "metadata": {
        "id": "CC-ifprX7C0p"
      },
      "source": [
        "import tensorflow as tf\n",
        "import numpy as np\n",
        "import pandas as pd\n",
        "import csv\n",
        "import os\n",
        "from os import getcwd\n",
        "import urllib.request\n",
        "# from urllib.request import urlopen\n",
        "from urllib.request import urlretrieve\n",
        "from tensorflow import keras\n",
        "import codecs"
      ],
      "execution_count": 1,
      "outputs": []
    },
    {
      "cell_type": "code",
      "metadata": {
        "id": "OyO7ybwanKPs"
      },
      "source": [
        "# with urllib.request.urlopen('https://raw.githubusercontent.com/Mohamed-derbeli/Fuel-cell-system/main/FC50_All_data00.csv') as csvfile:\n",
        "#    read_data = csvfile.read().decode('utf-8')\n",
        "#    print(read_data[0:50])\n",
        "\n",
        "with urllib.request.urlopen('https://raw.githubusercontent.com/Mohamed-derbeli/Fuel-cell-system/main/FC50_All_data00.csv') as csvfile:\n",
        "    read_file = csv.reader(codecs.iterdecode(csvfile, 'utf-8'), delimiter=',')\n",
        "    # next(read_file) # next() used to skip the first row "
      ],
      "execution_count": 10,
      "outputs": []
    },
    {
      "cell_type": "code",
      "metadata": {
        "colab": {
          "base_uri": "https://localhost:8080/"
        },
        "id": "ZwGy8UCzkZLi",
        "outputId": "a3ab4720-221b-41ed-b97a-c62955f37c25"
      },
      "source": [
        "#Inputs/ Fan: Fan power, Temp: Temperature, I_stack: Stack current, \n",
        "#Outputs/ V_stack: Stack voltage\n",
        "\n",
        "V_stack=[]\n",
        "I_stack=[]\n",
        "Temp=[]\n",
        "H_2=[]\n",
        "Fan=[]\n",
        "P_stack=[]\n",
        "\n",
        "# The data of each parapmeter in the scv file is divided into 10 rows. Therefoe, to obtain the whole data of each stack parameters, the data should be appended in the same vector. \n",
        "V_stack_index=[]\n",
        "I_stack_index=[]\n",
        "Temp_index=[]\n",
        "H_2_index=[]\n",
        "Fan_index=[]\n",
        "P_stack_index=[]\n",
        "\n",
        "with urllib.request.urlopen('https://raw.githubusercontent.com/Mohamed-derbeli/Fuel-cell-system/main/FC50_All_data00.csv') as csvfile:\n",
        "    read_file = csv.reader(codecs.iterdecode(csvfile, 'utf-8'), delimiter=',')\n",
        "    # next(read_file) # next() used to skip the first row \n",
        "\n",
        "    for i in range(0,6): # 6 rows of each tables \n",
        "        for number in range(i, 60, 6): #total of all rows is 60\n",
        "          if i==0:\n",
        "            V_stack_index.append(number)\n",
        "          if i==1:\n",
        "            I_stack_index.append(number)\n",
        "          if i==2:\n",
        "            Temp_index.append(number)\n",
        "          if i==3:\n",
        "            H_2_index.append(number)\n",
        "          if i==4:\n",
        "            Fan_index.append(number)\n",
        "          if i==5:\n",
        "            P_stack_index.append(number)\n",
        "    print(\"V_stack_index = \", V_stack_index)\n",
        "    print(\"I_stack_index = \",I_stack_index)\n",
        "    print(\"Temp_index = \",Temp_index)\n",
        "    print(\"H_2_index = \",H_2_index)\n",
        "    print(\"Fan_index = \",Fan_index)\n",
        "    print(\"P_stack_index = \",P_stack_index)\n",
        "    counter=0    \n",
        "    for row in read_file:\n",
        "      #clean the empty cells\n",
        "      j=0\n",
        "      for item in row:\n",
        "        j=j+1\n",
        "        if item ==\"\":\n",
        "          row=row[0:j-1]\n",
        "      # print(j)\n",
        "      #append the rows of the same parameter\n",
        "      if counter in V_stack_index:\n",
        "        for k1 in row: \n",
        "          V_stack.append(k1) \n",
        "          # this loop is used to fill in V_stack item by item and get 1 dimension vector,\n",
        "          # if we directly append(row) without looping then the shape of V_stack will be \n",
        "          # 2 dimension (10 rows, each has differnet length), this will cause difficults \n",
        "          # to reshape V_stack since the lengths are not the same.        \n",
        "      if counter in I_stack_index:\n",
        "        for k2 in row:\n",
        "          I_stack.append(k2)\n",
        "      if counter in Temp_index:\n",
        "        for k3 in row:\n",
        "          Temp.append(k3)\n",
        "      if counter in H_2_index:\n",
        "        for k4 in row:\n",
        "          H_2.append(k4)\n",
        "      if counter in Fan_index:\n",
        "        for k5 in row:\n",
        "          Fan.append(k5)\n",
        "      if counter in P_stack_index:\n",
        "        for k6 in row:\n",
        "          P_stack.append(k6)\n",
        "      counter=counter+1\n",
        "    print(\"\\n V_stack = \",V_stack[0:10])\n",
        "    print(\"I_stack= \",I_stack[0:10])\n",
        "    print(\"Temp = \",Temp[0:10])\n",
        "    print(\"H_2 = \", H_2[0:10])\n",
        "    print(\"Fan = \", Fan[0:10])\n",
        "    print(\"P_stack = \", P_stack[0:10])\n",
        "\n",
        "    # print(\"\\n dimentiones of V_stack are: \", [len(a) for a in V_stack])\n",
        "    # print(\"Total length of V_stack: \", sum(len(a) for a in V_stack))\n",
        "        # labels.append(row[0])\n",
        "        # sentence=row[1]\n",
        "        # # for word in stopwords:\n",
        "        # #     token= \" \" + word + \" \" # we used \" \" to add space before and after the word\n",
        "        # #     sentence=sentence.replace(token,\" \") #remove the stopwords from the senctencs\n",
        "        # #     sentence=sentence.replace(\"  \",\" \") #when there are 2 successively changes, they will cause 2 spaces and these should be removed\n",
        "        # sentences.append(sentence)\n",
        "        # read_via_pandas= pd.read_csv(csvfile)"
      ],
      "execution_count": 65,
      "outputs": [
        {
          "output_type": "stream",
          "name": "stdout",
          "text": [
            "V_stack_index =  [0, 6, 12, 18, 24, 30, 36, 42, 48, 54]\n",
            "I_stack_index =  [1, 7, 13, 19, 25, 31, 37, 43, 49, 55]\n",
            "Temp_index =  [2, 8, 14, 20, 26, 32, 38, 44, 50, 56]\n",
            "H_2_index =  [3, 9, 15, 21, 27, 33, 39, 45, 51, 57]\n",
            "Fan_index =  [4, 10, 16, 22, 28, 34, 40, 46, 52, 58]\n",
            "P_stack_index =  [5, 11, 17, 23, 29, 35, 41, 47, 53, 59]\n",
            "\n",
            " V_stack =  ['6.45', '6.09', '5.34', '4.41', '4.61', '5.52', '6.04', '6.52', '6.93', '7.16']\n",
            "I_stack=  ['2.33', '2.97', '4.43', '6.58', '5.99', '4.17', '3.2', '2.34', '1.7', '1.34']\n",
            "Temp =  ['25.6', '25.6', '25.5', '25.5', '25.5', '25.6', '25.6', '25.6', '25.7', '25.8']\n",
            "H_2 =  ['141', '165', '1036', '1036', '1036', '780', '1036', '1036', '648', '138']\n",
            "Fan =  ['10', '10', '10', '10', '10', '10', '10', '10', '10', '10']\n",
            "P_stack =  ['15.0285', '18.0873', '23.6562', '29.0178', '27.6139', '23.0184', '19.328', '15.2568', '11.781', '9.5944']\n"
          ]
        }
      ]
    },
    {
      "cell_type": "code",
      "metadata": {
        "colab": {
          "base_uri": "https://localhost:8080/"
        },
        "id": "AWTHoV0HQsmU",
        "outputId": "93bd2b6d-6422-43fb-ba04-1bbaa76d384b"
      },
      "source": [
        "V_stack=np.array(V_stack)\n",
        "I_stack=np.array(I_stack)\n",
        "P_stack=np.array(P_stack)\n",
        "Temp=np.array(Temp)\n",
        "H_2=np.array(H_2)\n",
        "Fan=np.array(Fan)\n",
        "print(V_stack.shape)\n",
        "print(len(V_stack))\n",
        "print(len(I_stack))\n",
        "print(len(P_stack))"
      ],
      "execution_count": 68,
      "outputs": [
        {
          "output_type": "stream",
          "name": "stdout",
          "text": [
            "(33856,)\n",
            "33856\n",
            "33856\n",
            "33856\n"
          ]
        }
      ]
    },
    {
      "cell_type": "code",
      "metadata": {
        "colab": {
          "base_uri": "https://localhost:8080/"
        },
        "id": "jJeK-2XIp8Dh",
        "outputId": "dfe0f095-ec2d-4f06-8d47-031bc5b26830"
      },
      "source": [
        "Total_size= sum(len(a) for a in V_stack)\n",
        "# V_stack=np.reshape(V_stack,[1,10])\n",
        "print(Total_size)\n",
        "training_size= .7 * Total_size\n",
        "print(int(training_size))\n",
        "\n",
        "\n"
      ],
      "execution_count": 67,
      "outputs": [
        {
          "output_type": "stream",
          "name": "stdout",
          "text": [
            "131535\n",
            "92074\n"
          ]
        }
      ]
    },
    {
      "cell_type": "code",
      "metadata": {
        "id": "c-ZQs2jy6Ol-",
        "colab": {
          "base_uri": "https://localhost:8080/"
        },
        "outputId": "19657856-bb56-4202-add1-11c6e33df37b"
      },
      "source": [
        "x=[]\n",
        "a=  [[0, 6, 12, 18, 24, 30, 36, 42, 48, 54],[0, 6, 12, 18, 24, 30, 36, 42, 48, 54],[0, 6, 12, 18, 24, 30, 36, 42, 48, 54]]\n",
        "b =  [1, 7, 13, 19, 25, 31, 37, 43, 49, 55]\n",
        "c =  [2, 8, 14, 20, 26, 32, 38, 44, 50, 56]\n",
        "d =  [3, 9, 15, 21, 27, 33, 39, 45, 51, 57]\n",
        "x.append(a)\n",
        "x.append(b)\n",
        "a=np.array(a)\n",
        "b=np.array(b)\n",
        "print(x)\n",
        "print(a.shape)\n",
        "print(b[5])"
      ],
      "execution_count": 53,
      "outputs": [
        {
          "output_type": "stream",
          "name": "stdout",
          "text": [
            "[[[0, 6, 12, 18, 24, 30, 36, 42, 48, 54], [0, 6, 12, 18, 24, 30, 36, 42, 48, 54], [0, 6, 12, 18, 24, 30, 36, 42, 48, 54]], [1, 7, 13, 19, 25, 31, 37, 43, 49, 55]]\n",
            "(3, 10)\n",
            "31\n"
          ]
        }
      ]
    },
    {
      "cell_type": "code",
      "metadata": {
        "colab": {
          "base_uri": "https://localhost:8080/"
        },
        "id": "_coIyEZv59Qf",
        "outputId": "2674f28a-166e-4828-db98-c37c8f93df96"
      },
      "source": [
        "# !gdown \"https://github.com/Mohamed-derbeli/Fuel-cell-system/blob/main/FC50_All_data00.csv\"\n",
        "# Get the current working directory\n",
        "# directory_path = os.getcwd()\n",
        "# print(\"Current working directory: \", directory_path)\n",
        "\n",
        "#path= f\"{getcwd()}/../tmp2/FC50_All_data00.xlsx\"\n",
        "# Get the current working directory\n",
        "# directory_path = os.getcwd()\n",
        "# print(\"Current working directory: \", directory_path)\n",
        "# Change the current working directory\n",
        "# os.chdir('/tmp')\n",
        "# print(\"Current working directory: \", directory_path)\n",
        "#read_data = open(directory_path) \n",
        "# pd.read_excel (path)\n",
        "\n",
        "#  with open('./FC50_All_data00.csv','r') as csvfile:\n",
        "# #   read_data =  pd.read_excel(exelfile)\n",
        "#     read_data = csv.reader(csvfile, delimiter=',')\n",
        "#     next(read_data)\n",
        "#     print(read_data)\n",
        "#     I=[]\n",
        "#     for row in read_data:\n",
        "#       I.append(row)\n",
        "#     print(I)\n",
        "\n",
        "# Load the xlsx file\n",
        "#excel_data = pd.read_excel('./FC50_All_data00.xlsx')\n",
        "# Read the values of the file in the dataframe\n",
        "# data = pd.DataFrame(excel_data, columns=[])\n",
        "# # Print the content\n",
        "# print(\"The content of the file is:\\n\", data)"
      ],
      "execution_count": null,
      "outputs": [
        {
          "output_type": "stream",
          "name": "stdout",
          "text": [
            "Downloading...\n",
            "From: https://github.com/Mohamed-derbeli/Fuel-cell-system/blob/main/FC50_All_data00.csv\n",
            "To: /content/FC50_All_data00.csv\n",
            "\r0.00B [00:00, ?B/s]\r134kB [00:00, 17.7MB/s]\n"
          ]
        }
      ]
    }
  ]
}